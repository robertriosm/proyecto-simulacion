{
 "cells": [
  {
   "cell_type": "code",
   "execution_count": 17,
   "metadata": {
    "collapsed": true
   },
   "outputs": [
    {
     "name": "stdout",
     "output_type": "stream",
     "text": [
      "                     team_name opponent (the big cheese)  Result  \\\n",
      "0                Seoul Dynasty           Chengdu Hunters     1.0   \n",
      "1           Washington Justice        New York Excelsior     1.0   \n",
      "2                Atlanta Reign            Florida Mayhem     1.0   \n",
      "3                  Dallas Fuel           London Spitfire     1.0   \n",
      "4               Florida Mayhem             Vegas Eternal     1.0   \n",
      "...                        ...                       ...     ...   \n",
      "848812         London Spitfire            Hangzhou Spark     0.0   \n",
      "848813     San Francisco Shock        Washington Justice     0.0   \n",
      "848814      Washington Justice           Boston Uprising     0.0   \n",
      "848815          Florida Mayhem             Seoul Dynasty     0.0   \n",
      "848816  Los Angeles Gladiators           Boston Uprising     0.0   \n",
      "\n",
      "                   map_name  Season  Times  \n",
      "0                     Ilios    2022      1  \n",
      "1                     Ilios    2022      1  \n",
      "2             Lijiang Tower    2022      1  \n",
      "3             Lijiang Tower    2022      1  \n",
      "4             Lijiang Tower    2022      1  \n",
      "...                     ...     ...    ...  \n",
      "848812        Lijiang Tower    2022      1  \n",
      "848813                Nepal    2022      1  \n",
      "848814                Ilios    2023      1  \n",
      "848815                Ilios    2022      1  \n",
      "848816  Antarctic Peninsula    2023      1  \n",
      "\n",
      "[736015 rows x 6 columns]\n",
      "                     team_name opponent (the big cheese)  Result  \\\n",
      "0                Seoul Dynasty           Chengdu Hunters     1.0   \n",
      "1           Washington Justice        New York Excelsior     1.0   \n",
      "2                Atlanta Reign            Florida Mayhem     1.0   \n",
      "3                  Dallas Fuel           London Spitfire     1.0   \n",
      "4               Florida Mayhem             Vegas Eternal     1.0   \n",
      "...                        ...                       ...     ...   \n",
      "848812         London Spitfire            Hangzhou Spark     0.0   \n",
      "848813     San Francisco Shock        Washington Justice     0.0   \n",
      "848814      Washington Justice           Boston Uprising     0.0   \n",
      "848815          Florida Mayhem             Seoul Dynasty     0.0   \n",
      "848816  Los Angeles Gladiators           Boston Uprising     0.0   \n",
      "\n",
      "                   map_name  Season  Times  \n",
      "0                     Ilios    2022      1  \n",
      "1                     Ilios    2022      1  \n",
      "2             Lijiang Tower    2022      1  \n",
      "3             Lijiang Tower    2022      1  \n",
      "4             Lijiang Tower    2022      1  \n",
      "...                     ...     ...    ...  \n",
      "848812        Lijiang Tower    2022      1  \n",
      "848813                Nepal    2022      1  \n",
      "848814                Ilios    2023      1  \n",
      "848815                Ilios    2022      1  \n",
      "848816  Antarctic Peninsula    2023      1  \n",
      "\n",
      "[736015 rows x 6 columns]\n"
     ]
    }
   ],
   "source": [
    "##\n",
    "# Proyecto OW Simulación\n",
    "# Joshua Chicoj, Oscar Estrada, Majo Gil, Roberto\n",
    "# Cálculo de probabilidades de mapa por equipo\n",
    "##\n",
    "\n",
    "# Imports\n",
    "import pandas as pd\n",
    "import numpy as np\n",
    "\n",
    "\n",
    "# Read data\n",
    "dfOW = pd.read_csv('Team Comp vs Opp Comp_the big cheese_data.csv')\n",
    "dfOW.replace('Win', 1, inplace=True)\n",
    "dfOW.replace('Loss', 0, inplace=True)\n",
    "dfOW.replace('Draw', 0.5, inplace=True)\n",
    "dfOW = dfOW[~dfOW['map_name'].isin(['Hanamura', 'Paris', 'Horizon Lunar Colony', 'Temple of Anubis', 'Volskaya Industries'])]\n",
    "\n",
    "dfOW['Times'] = 1\n",
    "print(dfOW)\n"
   ]
  },
  {
   "cell_type": "code",
   "execution_count": 18,
   "outputs": [
    {
     "data": {
      "text/plain": "array(['Seoul Dynasty', 'Washington Justice', 'Atlanta Reign',\n       'Dallas Fuel', 'Florida Mayhem', 'Toronto Defiant',\n       'Los Angeles Gladiators', 'Guangzhou Charge', 'Hangzhou Spark',\n       'San Francisco Shock', 'Seoul Infernal', 'Shanghai Dragons',\n       'Chengdu Hunters', 'Vancouver Titans', 'Houston Outlaws',\n       'Los Angeles Valiant', 'London Spitfire', 'Vegas Eternal',\n       'New York Excelsior', 'Boston Uprising', 'Poker Face', 'Rhodes',\n       'O2 Blast', 'PANTHERA', 'Sin Prisa Gaming', 'Dreamers',\n       'Trick Room', 'Twisted Minds', 'Saints', 'Redbird Esports',\n       'Timeless', 'Team Peps', 'WISP'], dtype=object)"
     },
     "execution_count": 14,
     "metadata": {},
     "output_type": "execute_result"
    },
    {
     "data": {
      "text/plain": "array(['Seoul Dynasty', 'Washington Justice', 'Atlanta Reign',\n       'Dallas Fuel', 'Florida Mayhem', 'Toronto Defiant',\n       'Los Angeles Gladiators', 'Guangzhou Charge', 'Hangzhou Spark',\n       'San Francisco Shock', 'Seoul Infernal', 'Shanghai Dragons',\n       'Chengdu Hunters', 'Vancouver Titans', 'Houston Outlaws',\n       'Los Angeles Valiant', 'London Spitfire', 'Vegas Eternal',\n       'New York Excelsior', 'Boston Uprising', 'Poker Face', 'Rhodes',\n       'O2 Blast', 'PANTHERA', 'Sin Prisa Gaming', 'Dreamers',\n       'Trick Room', 'Twisted Minds', 'Saints', 'Redbird Esports',\n       'Timeless', 'Team Peps', 'WISP'], dtype=object)"
     },
     "execution_count": 18,
     "metadata": {},
     "output_type": "execute_result"
    }
   ],
   "source": [
    "# Make dictionary\n",
    "teamNames = dfOW['team_name'].unique()\n",
    "mapNames = dfOW['map_name'].unique()\n",
    "mapNames = np.setdiff1d(mapNames, ['Hanamura', 'Paris', 'Horizon Lunar Colony', 'Temple of Anubis', 'Volskaya Industries'])\n",
    "\n",
    "teamNames"
   ],
   "metadata": {
    "collapsed": false
   }
  },
  {
   "cell_type": "code",
   "execution_count": 19,
   "outputs": [
    {
     "data": {
      "text/plain": "               team_name    opponent_name               map_name  Result\n0          Atlanta Reign  Boston Uprising         Blizzard World    42.5\n1          Atlanta Reign  Boston Uprising                  Busan    65.0\n2          Atlanta Reign  Boston Uprising          Circuit royal    23.5\n3          Atlanta Reign  Boston Uprising               Colosseo    38.0\n4          Atlanta Reign  Boston Uprising            Eichenwalde   150.0\n...                  ...              ...                    ...     ...\n4969  Washington Justice    Vegas Eternal                 Rialto    70.0\n4970  Washington Justice    Vegas Eternal               Route 66    30.0\n4971  Washington Justice    Vegas Eternal  Watchpoint: Gibraltar    60.0\n4972  Washington Justice             WISP             King's Row    55.0\n4973  Washington Justice             WISP          Lijiang Tower    45.0\n\n[4974 rows x 4 columns]",
      "text/html": "<div>\n<style scoped>\n    .dataframe tbody tr th:only-of-type {\n        vertical-align: middle;\n    }\n\n    .dataframe tbody tr th {\n        vertical-align: top;\n    }\n\n    .dataframe thead th {\n        text-align: right;\n    }\n</style>\n<table border=\"1\" class=\"dataframe\">\n  <thead>\n    <tr style=\"text-align: right;\">\n      <th></th>\n      <th>team_name</th>\n      <th>opponent_name</th>\n      <th>map_name</th>\n      <th>Result</th>\n    </tr>\n  </thead>\n  <tbody>\n    <tr>\n      <th>0</th>\n      <td>Atlanta Reign</td>\n      <td>Boston Uprising</td>\n      <td>Blizzard World</td>\n      <td>42.5</td>\n    </tr>\n    <tr>\n      <th>1</th>\n      <td>Atlanta Reign</td>\n      <td>Boston Uprising</td>\n      <td>Busan</td>\n      <td>65.0</td>\n    </tr>\n    <tr>\n      <th>2</th>\n      <td>Atlanta Reign</td>\n      <td>Boston Uprising</td>\n      <td>Circuit royal</td>\n      <td>23.5</td>\n    </tr>\n    <tr>\n      <th>3</th>\n      <td>Atlanta Reign</td>\n      <td>Boston Uprising</td>\n      <td>Colosseo</td>\n      <td>38.0</td>\n    </tr>\n    <tr>\n      <th>4</th>\n      <td>Atlanta Reign</td>\n      <td>Boston Uprising</td>\n      <td>Eichenwalde</td>\n      <td>150.0</td>\n    </tr>\n    <tr>\n      <th>...</th>\n      <td>...</td>\n      <td>...</td>\n      <td>...</td>\n      <td>...</td>\n    </tr>\n    <tr>\n      <th>4969</th>\n      <td>Washington Justice</td>\n      <td>Vegas Eternal</td>\n      <td>Rialto</td>\n      <td>70.0</td>\n    </tr>\n    <tr>\n      <th>4970</th>\n      <td>Washington Justice</td>\n      <td>Vegas Eternal</td>\n      <td>Route 66</td>\n      <td>30.0</td>\n    </tr>\n    <tr>\n      <th>4971</th>\n      <td>Washington Justice</td>\n      <td>Vegas Eternal</td>\n      <td>Watchpoint: Gibraltar</td>\n      <td>60.0</td>\n    </tr>\n    <tr>\n      <th>4972</th>\n      <td>Washington Justice</td>\n      <td>WISP</td>\n      <td>King's Row</td>\n      <td>55.0</td>\n    </tr>\n    <tr>\n      <th>4973</th>\n      <td>Washington Justice</td>\n      <td>WISP</td>\n      <td>Lijiang Tower</td>\n      <td>45.0</td>\n    </tr>\n  </tbody>\n</table>\n<p>4974 rows × 4 columns</p>\n</div>"
     },
     "execution_count": 15,
     "metadata": {},
     "output_type": "execute_result"
    },
    {
     "data": {
      "text/plain": "               team_name    opponent_name               map_name  Result\n0          Atlanta Reign  Boston Uprising         Blizzard World    42.5\n1          Atlanta Reign  Boston Uprising                  Busan    65.0\n2          Atlanta Reign  Boston Uprising          Circuit royal    23.5\n3          Atlanta Reign  Boston Uprising               Colosseo    38.0\n4          Atlanta Reign  Boston Uprising            Eichenwalde   150.0\n...                  ...              ...                    ...     ...\n4969  Washington Justice    Vegas Eternal                 Rialto    70.0\n4970  Washington Justice    Vegas Eternal               Route 66    30.0\n4971  Washington Justice    Vegas Eternal  Watchpoint: Gibraltar    60.0\n4972  Washington Justice             WISP             King's Row    55.0\n4973  Washington Justice             WISP          Lijiang Tower    45.0\n\n[4974 rows x 4 columns]",
      "text/html": "<div>\n<style scoped>\n    .dataframe tbody tr th:only-of-type {\n        vertical-align: middle;\n    }\n\n    .dataframe tbody tr th {\n        vertical-align: top;\n    }\n\n    .dataframe thead th {\n        text-align: right;\n    }\n</style>\n<table border=\"1\" class=\"dataframe\">\n  <thead>\n    <tr style=\"text-align: right;\">\n      <th></th>\n      <th>team_name</th>\n      <th>opponent_name</th>\n      <th>map_name</th>\n      <th>Result</th>\n    </tr>\n  </thead>\n  <tbody>\n    <tr>\n      <th>0</th>\n      <td>Atlanta Reign</td>\n      <td>Boston Uprising</td>\n      <td>Blizzard World</td>\n      <td>42.5</td>\n    </tr>\n    <tr>\n      <th>1</th>\n      <td>Atlanta Reign</td>\n      <td>Boston Uprising</td>\n      <td>Busan</td>\n      <td>65.0</td>\n    </tr>\n    <tr>\n      <th>2</th>\n      <td>Atlanta Reign</td>\n      <td>Boston Uprising</td>\n      <td>Circuit royal</td>\n      <td>23.5</td>\n    </tr>\n    <tr>\n      <th>3</th>\n      <td>Atlanta Reign</td>\n      <td>Boston Uprising</td>\n      <td>Colosseo</td>\n      <td>38.0</td>\n    </tr>\n    <tr>\n      <th>4</th>\n      <td>Atlanta Reign</td>\n      <td>Boston Uprising</td>\n      <td>Eichenwalde</td>\n      <td>150.0</td>\n    </tr>\n    <tr>\n      <th>...</th>\n      <td>...</td>\n      <td>...</td>\n      <td>...</td>\n      <td>...</td>\n    </tr>\n    <tr>\n      <th>4969</th>\n      <td>Washington Justice</td>\n      <td>Vegas Eternal</td>\n      <td>Rialto</td>\n      <td>70.0</td>\n    </tr>\n    <tr>\n      <th>4970</th>\n      <td>Washington Justice</td>\n      <td>Vegas Eternal</td>\n      <td>Route 66</td>\n      <td>30.0</td>\n    </tr>\n    <tr>\n      <th>4971</th>\n      <td>Washington Justice</td>\n      <td>Vegas Eternal</td>\n      <td>Watchpoint: Gibraltar</td>\n      <td>60.0</td>\n    </tr>\n    <tr>\n      <th>4972</th>\n      <td>Washington Justice</td>\n      <td>WISP</td>\n      <td>King's Row</td>\n      <td>55.0</td>\n    </tr>\n    <tr>\n      <th>4973</th>\n      <td>Washington Justice</td>\n      <td>WISP</td>\n      <td>Lijiang Tower</td>\n      <td>45.0</td>\n    </tr>\n  </tbody>\n</table>\n<p>4974 rows × 4 columns</p>\n</div>"
     },
     "execution_count": 19,
     "metadata": {},
     "output_type": "execute_result"
    }
   ],
   "source": [
    "# Get wins and times played\n",
    "dfOW = dfOW.rename(columns={'opponent (the big cheese)': 'opponent_name'})\n",
    "\n",
    "stats1 = dfOW.groupby(['team_name', 'opponent_name','map_name'])['Result'].sum().reset_index().rename(columns = {'0': 'frecuencia'})\n",
    "times1 = dfOW.groupby(['team_name', 'opponent_name', 'map_name'])['Times'].sum().reset_index().rename(columns = {'0': 'frecuencia'})\n",
    "\n",
    "stats1\n"
   ],
   "metadata": {
    "collapsed": false
   }
  },
  {
   "cell_type": "code",
   "execution_count": 20,
   "outputs": [
    {
     "data": {
      "text/plain": "               team_name    opponent_name               map_name  Result  \\\n0          Atlanta Reign  Boston Uprising         Blizzard World    42.5   \n1          Atlanta Reign  Boston Uprising                  Busan    65.0   \n2          Atlanta Reign  Boston Uprising          Circuit royal    23.5   \n3          Atlanta Reign  Boston Uprising               Colosseo    38.0   \n4          Atlanta Reign  Boston Uprising            Eichenwalde   150.0   \n...                  ...              ...                    ...     ...   \n4969  Washington Justice    Vegas Eternal                 Rialto    70.0   \n4970  Washington Justice    Vegas Eternal               Route 66    30.0   \n4971  Washington Justice    Vegas Eternal  Watchpoint: Gibraltar    60.0   \n4972  Washington Justice             WISP             King's Row    55.0   \n4973  Washington Justice             WISP          Lijiang Tower    45.0   \n\n      Times   WinRate  \n0        75  0.566667  \n1       159  0.408805  \n2       112  0.209821  \n3        99  0.383838  \n4       235  0.638298  \n...     ...       ...  \n4969    141  0.496454  \n4970     80  0.375000  \n4971    101  0.594059  \n4972     85  0.647059  \n4973     50  0.900000  \n\n[4974 rows x 6 columns]",
      "text/html": "<div>\n<style scoped>\n    .dataframe tbody tr th:only-of-type {\n        vertical-align: middle;\n    }\n\n    .dataframe tbody tr th {\n        vertical-align: top;\n    }\n\n    .dataframe thead th {\n        text-align: right;\n    }\n</style>\n<table border=\"1\" class=\"dataframe\">\n  <thead>\n    <tr style=\"text-align: right;\">\n      <th></th>\n      <th>team_name</th>\n      <th>opponent_name</th>\n      <th>map_name</th>\n      <th>Result</th>\n      <th>Times</th>\n      <th>WinRate</th>\n    </tr>\n  </thead>\n  <tbody>\n    <tr>\n      <th>0</th>\n      <td>Atlanta Reign</td>\n      <td>Boston Uprising</td>\n      <td>Blizzard World</td>\n      <td>42.5</td>\n      <td>75</td>\n      <td>0.566667</td>\n    </tr>\n    <tr>\n      <th>1</th>\n      <td>Atlanta Reign</td>\n      <td>Boston Uprising</td>\n      <td>Busan</td>\n      <td>65.0</td>\n      <td>159</td>\n      <td>0.408805</td>\n    </tr>\n    <tr>\n      <th>2</th>\n      <td>Atlanta Reign</td>\n      <td>Boston Uprising</td>\n      <td>Circuit royal</td>\n      <td>23.5</td>\n      <td>112</td>\n      <td>0.209821</td>\n    </tr>\n    <tr>\n      <th>3</th>\n      <td>Atlanta Reign</td>\n      <td>Boston Uprising</td>\n      <td>Colosseo</td>\n      <td>38.0</td>\n      <td>99</td>\n      <td>0.383838</td>\n    </tr>\n    <tr>\n      <th>4</th>\n      <td>Atlanta Reign</td>\n      <td>Boston Uprising</td>\n      <td>Eichenwalde</td>\n      <td>150.0</td>\n      <td>235</td>\n      <td>0.638298</td>\n    </tr>\n    <tr>\n      <th>...</th>\n      <td>...</td>\n      <td>...</td>\n      <td>...</td>\n      <td>...</td>\n      <td>...</td>\n      <td>...</td>\n    </tr>\n    <tr>\n      <th>4969</th>\n      <td>Washington Justice</td>\n      <td>Vegas Eternal</td>\n      <td>Rialto</td>\n      <td>70.0</td>\n      <td>141</td>\n      <td>0.496454</td>\n    </tr>\n    <tr>\n      <th>4970</th>\n      <td>Washington Justice</td>\n      <td>Vegas Eternal</td>\n      <td>Route 66</td>\n      <td>30.0</td>\n      <td>80</td>\n      <td>0.375000</td>\n    </tr>\n    <tr>\n      <th>4971</th>\n      <td>Washington Justice</td>\n      <td>Vegas Eternal</td>\n      <td>Watchpoint: Gibraltar</td>\n      <td>60.0</td>\n      <td>101</td>\n      <td>0.594059</td>\n    </tr>\n    <tr>\n      <th>4972</th>\n      <td>Washington Justice</td>\n      <td>WISP</td>\n      <td>King's Row</td>\n      <td>55.0</td>\n      <td>85</td>\n      <td>0.647059</td>\n    </tr>\n    <tr>\n      <th>4973</th>\n      <td>Washington Justice</td>\n      <td>WISP</td>\n      <td>Lijiang Tower</td>\n      <td>45.0</td>\n      <td>50</td>\n      <td>0.900000</td>\n    </tr>\n  </tbody>\n</table>\n<p>4974 rows × 6 columns</p>\n</div>"
     },
     "execution_count": 16,
     "metadata": {},
     "output_type": "execute_result"
    },
    {
     "data": {
      "text/plain": "               team_name    opponent_name               map_name  Result  \\\n0          Atlanta Reign  Boston Uprising         Blizzard World    42.5   \n1          Atlanta Reign  Boston Uprising                  Busan    65.0   \n2          Atlanta Reign  Boston Uprising          Circuit royal    23.5   \n3          Atlanta Reign  Boston Uprising               Colosseo    38.0   \n4          Atlanta Reign  Boston Uprising            Eichenwalde   150.0   \n...                  ...              ...                    ...     ...   \n4969  Washington Justice    Vegas Eternal                 Rialto    70.0   \n4970  Washington Justice    Vegas Eternal               Route 66    30.0   \n4971  Washington Justice    Vegas Eternal  Watchpoint: Gibraltar    60.0   \n4972  Washington Justice             WISP             King's Row    55.0   \n4973  Washington Justice             WISP          Lijiang Tower    45.0   \n\n      Times   WinRate  \n0        75  0.566667  \n1       159  0.408805  \n2       112  0.209821  \n3        99  0.383838  \n4       235  0.638298  \n...     ...       ...  \n4969    141  0.496454  \n4970     80  0.375000  \n4971    101  0.594059  \n4972     85  0.647059  \n4973     50  0.900000  \n\n[4974 rows x 6 columns]",
      "text/html": "<div>\n<style scoped>\n    .dataframe tbody tr th:only-of-type {\n        vertical-align: middle;\n    }\n\n    .dataframe tbody tr th {\n        vertical-align: top;\n    }\n\n    .dataframe thead th {\n        text-align: right;\n    }\n</style>\n<table border=\"1\" class=\"dataframe\">\n  <thead>\n    <tr style=\"text-align: right;\">\n      <th></th>\n      <th>team_name</th>\n      <th>opponent_name</th>\n      <th>map_name</th>\n      <th>Result</th>\n      <th>Times</th>\n      <th>WinRate</th>\n    </tr>\n  </thead>\n  <tbody>\n    <tr>\n      <th>0</th>\n      <td>Atlanta Reign</td>\n      <td>Boston Uprising</td>\n      <td>Blizzard World</td>\n      <td>42.5</td>\n      <td>75</td>\n      <td>0.566667</td>\n    </tr>\n    <tr>\n      <th>1</th>\n      <td>Atlanta Reign</td>\n      <td>Boston Uprising</td>\n      <td>Busan</td>\n      <td>65.0</td>\n      <td>159</td>\n      <td>0.408805</td>\n    </tr>\n    <tr>\n      <th>2</th>\n      <td>Atlanta Reign</td>\n      <td>Boston Uprising</td>\n      <td>Circuit royal</td>\n      <td>23.5</td>\n      <td>112</td>\n      <td>0.209821</td>\n    </tr>\n    <tr>\n      <th>3</th>\n      <td>Atlanta Reign</td>\n      <td>Boston Uprising</td>\n      <td>Colosseo</td>\n      <td>38.0</td>\n      <td>99</td>\n      <td>0.383838</td>\n    </tr>\n    <tr>\n      <th>4</th>\n      <td>Atlanta Reign</td>\n      <td>Boston Uprising</td>\n      <td>Eichenwalde</td>\n      <td>150.0</td>\n      <td>235</td>\n      <td>0.638298</td>\n    </tr>\n    <tr>\n      <th>...</th>\n      <td>...</td>\n      <td>...</td>\n      <td>...</td>\n      <td>...</td>\n      <td>...</td>\n      <td>...</td>\n    </tr>\n    <tr>\n      <th>4969</th>\n      <td>Washington Justice</td>\n      <td>Vegas Eternal</td>\n      <td>Rialto</td>\n      <td>70.0</td>\n      <td>141</td>\n      <td>0.496454</td>\n    </tr>\n    <tr>\n      <th>4970</th>\n      <td>Washington Justice</td>\n      <td>Vegas Eternal</td>\n      <td>Route 66</td>\n      <td>30.0</td>\n      <td>80</td>\n      <td>0.375000</td>\n    </tr>\n    <tr>\n      <th>4971</th>\n      <td>Washington Justice</td>\n      <td>Vegas Eternal</td>\n      <td>Watchpoint: Gibraltar</td>\n      <td>60.0</td>\n      <td>101</td>\n      <td>0.594059</td>\n    </tr>\n    <tr>\n      <th>4972</th>\n      <td>Washington Justice</td>\n      <td>WISP</td>\n      <td>King's Row</td>\n      <td>55.0</td>\n      <td>85</td>\n      <td>0.647059</td>\n    </tr>\n    <tr>\n      <th>4973</th>\n      <td>Washington Justice</td>\n      <td>WISP</td>\n      <td>Lijiang Tower</td>\n      <td>45.0</td>\n      <td>50</td>\n      <td>0.900000</td>\n    </tr>\n  </tbody>\n</table>\n<p>4974 rows × 6 columns</p>\n</div>"
     },
     "execution_count": 20,
     "metadata": {},
     "output_type": "execute_result"
    }
   ],
   "source": [
    " # Get percentages\n",
    "stats = pd.merge(stats1,times1, on = ['team_name','opponent_name', 'map_name'])\n",
    "\n",
    "stats['WinRate'] = stats['Result']/stats['Times']\n",
    "\n",
    "stats\n"
   ],
   "metadata": {
    "collapsed": false
   }
  }
 ],
 "metadata": {
  "kernelspec": {
   "display_name": "Python 3",
   "language": "python",
   "name": "python3"
  },
  "language_info": {
   "codemirror_mode": {
    "name": "ipython",
    "version": 2
   },
   "file_extension": ".py",
   "mimetype": "text/x-python",
   "name": "python",
   "nbconvert_exporter": "python",
   "pygments_lexer": "ipython2",
   "version": "2.7.6"
  }
 },
 "nbformat": 4,
 "nbformat_minor": 0
}

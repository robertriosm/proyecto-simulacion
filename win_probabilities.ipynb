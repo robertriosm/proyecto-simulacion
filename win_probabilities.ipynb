{
 "cells": [
  {
   "cell_type": "code",
   "execution_count": 94,
   "metadata": {
    "collapsed": true
   },
   "outputs": [
    {
     "name": "stdout",
     "output_type": "stream",
     "text": [
      "                     team_name opponent (the big cheese) Result  \\\n",
      "0                Seoul Dynasty           Chengdu Hunters      1   \n",
      "1           Washington Justice        New York Excelsior      1   \n",
      "2                Atlanta Reign            Florida Mayhem      1   \n",
      "3                  Dallas Fuel           London Spitfire      1   \n",
      "4               Florida Mayhem             Vegas Eternal      1   \n",
      "...                        ...                       ...    ...   \n",
      "848812         London Spitfire            Hangzhou Spark      0   \n",
      "848813     San Francisco Shock        Washington Justice      0   \n",
      "848814      Washington Justice           Boston Uprising      0   \n",
      "848815          Florida Mayhem             Seoul Dynasty      0   \n",
      "848816  Los Angeles Gladiators           Boston Uprising      0   \n",
      "\n",
      "                   map_name  Season  Times  \n",
      "0                     Ilios    2022      1  \n",
      "1                     Ilios    2022      1  \n",
      "2             Lijiang Tower    2022      1  \n",
      "3             Lijiang Tower    2022      1  \n",
      "4             Lijiang Tower    2022      1  \n",
      "...                     ...     ...    ...  \n",
      "848812        Lijiang Tower    2022      1  \n",
      "848813                Nepal    2022      1  \n",
      "848814                Ilios    2023      1  \n",
      "848815                Ilios    2022      1  \n",
      "848816  Antarctic Peninsula    2023      1  \n",
      "\n",
      "[686177 rows x 6 columns]\n"
     ]
    }
   ],
   "source": [
    "##\n",
    "# Proyecto OW Simulación\n",
    "# Joshua Chicoj, Oscar Estrada, Majo Gil, Roberto\n",
    "# Cálculo de probabilidades de mapa por equipo\n",
    "##\n",
    "\n",
    "# Imports\n",
    "import pandas as pd\n",
    "import numpy as np\n",
    "\n",
    "\n",
    "# Read data\n",
    "dfOW = pd.read_csv('Team Comp vs Opp Comp_the big cheese_data.csv')\n",
    "dfOW.replace('Win', 1, inplace=True)\n",
    "dfOW.replace('Loss', 0, inplace=True)\n",
    "dfOW.drop(dfOW[dfOW['Result'] == 'Draw'].index, inplace = True)\n",
    "dfOW = dfOW[~dfOW['map_name'].isin(['Hanamura', 'Paris', 'Horizon Lunar Colony', 'Temple of Anubis', 'Volskaya Industries'])]\n",
    "\n",
    "dfOW['Times'] = 1\n",
    "print(dfOW)\n"
   ]
  },
  {
   "cell_type": "code",
   "execution_count": 95,
   "outputs": [],
   "source": [
    "# Make dictionary\n",
    "teamNames = dfOW['team_name'].unique()\n",
    "mapNames = dfOW['map_name'].unique()\n",
    "mapNames = np.setdiff1d(mapNames, ['Hanamura', 'Paris', 'Horizon Lunar Colony', 'Temple of Anubis', 'Volskaya Industries'])"
   ],
   "metadata": {
    "collapsed": false
   }
  },
  {
   "cell_type": "code",
   "execution_count": 85,
   "outputs": [
    {
     "name": "stdout",
     "output_type": "stream",
     "text": [
      "              team_name               map_name  Result\n",
      "0         Atlanta Reign    Antarctic Peninsula     150\n",
      "1         Atlanta Reign         Blizzard World     676\n",
      "2         Atlanta Reign                  Busan    1207\n",
      "3         Atlanta Reign          Circuit royal     526\n",
      "4         Atlanta Reign               Colosseo     653\n",
      "..                  ...                    ...     ...\n",
      "672  Washington Justice               Route 66     602\n",
      "673  Washington Justice     Shambali Monastery     130\n",
      "674  Washington Justice       Temple of Anubis     880\n",
      "675  Washington Justice    Volskaya Industries     576\n",
      "676  Washington Justice  Watchpoint: Gibraltar     636\n",
      "\n",
      "[677 rows x 3 columns]\n"
     ]
    }
   ],
   "source": [
    "# Get wins and times played\n",
    "dfOW2 = dfOW.drop(['team_name'], axis=1).rename(columns={'opponent (the big cheese)': 'team_name'})\n",
    "\n",
    "stats1 = dfOW.groupby(['team_name', 'map_name'])['Result'].sum().reset_index().rename(columns = {'0': 'frecuencia'})\n",
    "times1 = dfOW.groupby(['team_name', 'map_name'])['Times'].sum().reset_index().rename(columns = {'0': 'frecuencia'})\n",
    "\n",
    "times2 = dfOW2.groupby(['team_name', 'map_name'])['Times'].sum().reset_index().rename(columns = {'0': 'frecuencia'})\n",
    "\n",
    "stats2 = dfOW2.groupby(['team_name', 'map_name'])['Result'].sum().reset_index().rename(columns = {'0': 'frecuencia'})\n",
    "\n",
    "\n",
    "print(stats1)\n"
   ],
   "metadata": {
    "collapsed": false
   }
  },
  {
   "cell_type": "code",
   "execution_count": 86,
   "outputs": [
    {
     "name": "stdout",
     "output_type": "stream",
     "text": [
      "              team_name               map_name  Result  Times   WinRate\n",
      "0         Atlanta Reign    Antarctic Peninsula     236    472  0.500000\n",
      "1         Atlanta Reign         Blizzard World    1086   2198  0.494086\n",
      "2         Atlanta Reign                  Busan    2304   4969  0.463675\n",
      "3         Atlanta Reign          Circuit royal    1099   2162  0.508326\n",
      "4         Atlanta Reign               Colosseo    1461   2971  0.491754\n",
      "..                  ...                    ...     ...    ...       ...\n",
      "672  Washington Justice               Route 66    1127   2585  0.435977\n",
      "673  Washington Justice     Shambali Monastery     250    503  0.497018\n",
      "674  Washington Justice       Temple of Anubis    1447   3212  0.450498\n",
      "675  Washington Justice    Volskaya Industries    1134   2575  0.440388\n",
      "676  Washington Justice  Watchpoint: Gibraltar    1381   2888  0.478186\n",
      "\n",
      "[677 rows x 5 columns]\n"
     ]
    }
   ],
   "source": [
    "# Get percentages\n",
    "stats = pd.merge(stats1,stats2, on =['team_name', 'map_name'])\n",
    "times = pd.merge(times1,times2, on =['team_name', 'map_name'])\n",
    "stats = pd.merge(stats,times, on = ['team_name', 'map_name'])\n",
    "stats['Result'] = stats['Result_x']+ stats['Result_y']\n",
    "stats['Times'] = stats['Times_x']+ stats['Times_y']\n",
    "\n",
    "stats = stats.drop(['Result_y', 'Result_x','Times_x', 'Times_y'],  axis=1)\n",
    "\n",
    "stats['WinRate'] = stats['Result']/stats['Times']\n",
    "\n",
    "print(stats)\n"
   ],
   "metadata": {
    "collapsed": false
   }
  }
 ],
 "metadata": {
  "kernelspec": {
   "display_name": "Python 3",
   "language": "python",
   "name": "python3"
  },
  "language_info": {
   "codemirror_mode": {
    "name": "ipython",
    "version": 2
   },
   "file_extension": ".py",
   "mimetype": "text/x-python",
   "name": "python",
   "nbconvert_exporter": "python",
   "pygments_lexer": "ipython2",
   "version": "2.7.6"
  }
 },
 "nbformat": 4,
 "nbformat_minor": 0
}

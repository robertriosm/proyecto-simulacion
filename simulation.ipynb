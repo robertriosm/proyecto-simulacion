{
 "cells": [
  {
   "cell_type": "markdown",
   "source": [
    "# Simulación"
   ],
   "metadata": {
    "collapsed": false
   },
   "id": "feaab801b31768fc"
  },
  {
   "cell_type": "markdown",
   "source": [
    "## Método para la selección de mapas"
   ],
   "metadata": {
    "collapsed": false
   },
   "id": "9c6770c6754f0ce9"
  },
  {
   "cell_type": "code",
   "execution_count": 44,
   "outputs": [],
   "source": [
    "import numpy as np\n",
    "import random\n",
    "import pandas as pd\n",
    "from itertools import combinations\n",
    "\n",
    "def getMaps(match):\n",
    "    print(match)\n",
    "    map_types = {\n",
    "        \"control\": [\"Busan\", \"Nepal\", \"Ilios\", \"Oasis\", \"Lijian Tower\", \"Antartic Peninsula\"],\n",
    "        \"push\": [\"Esperanca\", \"Colosseo\", \"New Queen Street\"],\n",
    "        \"escort\": [\"Circuit Royale\", \"Dorado\", \"Route 66\", \"JunkerTown\", \"Rialto\", \"Havana\", \"Watchpoint Gibraltar\", \"Shambali Monastery\"],\n",
    "        \"hybrid\": [\"Blizzard World\", \"Numbani\", \"Hollywood\", \"Eichenwalde\", \"Kings Row\", \"Midtown\", \"Paraiso\"]\n",
    "    }\n",
    "    \n",
    "    map_order = [\"control\", \"hybrid\", \"push\", \"escort\", \"control\"]\n",
    "    selected_maps = []\n",
    "\n",
    "    # Elegir el primer mapa aleatoriamente\n",
    "    first_map_type = \"control\"\n",
    "    selected_maps.append(random.choice(map_types[first_map_type]))\n",
    "\n",
    "    # Eliminar el mapa seleccionado del tipo para el último mapa\n",
    "    map_types[first_map_type].remove(selected_maps[0])\n",
    "    map_order.remove(map_order[0])\n",
    "\n",
    "    # Calcular las probabilidades para la distribución multinomial\n",
    "    probabilities = [len(map_types[map_type]) for map_type in map_order]\n",
    "\n",
    "    # Generar una selección de mapas utilizando la distribución multinomial\n",
    "    selected_indices = np.random.multinomial(1, probabilities / np.sum(probabilities), size=1)[0]\n",
    "\n",
    "    # Seleccionar un mapa aleatorio del tipo seleccionado para cada índice\n",
    "    for selected_index, map_type in zip(selected_indices, map_order):\n",
    "        selected_map = map_types[map_type][selected_index]\n",
    "        selected_maps.append(selected_map)\n",
    "        \n",
    "    return selected_maps"
   ],
   "metadata": {
    "collapsed": false,
    "ExecuteTime": {
     "end_time": "2023-09-26T05:53:41.556480500Z",
     "start_time": "2023-09-26T05:53:41.522362600Z"
    }
   },
   "id": "505e323515cd419b"
  },
  {
   "cell_type": "markdown",
   "source": [
    "## Generador de Encuentros"
   ],
   "metadata": {
    "collapsed": false
   },
   "id": "1185edcd2892f514"
  },
  {
   "cell_type": "code",
   "execution_count": 5,
   "outputs": [],
   "source": [
    "def getMatches():\n",
    "    df = pd.read_csv('Team Comp vs Opp Comp_the big cheese_data.csv')\n",
    "    df = df[df[\"Season\"] > 2022]\n",
    "    team_names = set(df[\"team_name\"])\n",
    "    # teams_matches = list(combinations(team_names,r=2))\n",
    "    titans_matches = [(\"Vancouver Titans\", i) for i in team_names if i != \"Vancouver Titans\"]\n",
    "    \n",
    "    return titans_matches"
   ],
   "metadata": {
    "collapsed": false,
    "ExecuteTime": {
     "end_time": "2023-09-26T00:57:03.482771600Z",
     "start_time": "2023-09-26T00:57:03.456742100Z"
    }
   },
   "id": "b9974c1d751d39c8"
  },
  {
   "cell_type": "markdown",
   "source": [
    "## Generador de Probabilidades"
   ],
   "metadata": {
    "collapsed": false
   },
   "id": "9f0b0d4b693eaff4"
  },
  {
   "cell_type": "code",
   "execution_count": 12,
   "outputs": [],
   "source": [
    "def getWinrateStats():\n",
    "    # Read data\n",
    "    dfOW = pd.read_csv('Team Comp vs Opp Comp_the big cheese_data.csv')\n",
    "    dfOW.replace('Win', 1, inplace=True)\n",
    "    dfOW.replace('Loss', 0, inplace=True)\n",
    "    dfOW.replace('Draw', 0.5, inplace=True)\n",
    "    dfOW = dfOW[~dfOW['map_name'].isin(['Hanamura', 'Paris', 'Horizon Lunar Colony', 'Temple of Anubis', 'Volskaya Industries'])]\n",
    "    dfOW['Times'] = 1\n",
    "    \n",
    "    # Make dictionary\n",
    "    teamNames = dfOW['team_name'].unique()\n",
    "    mapNames = dfOW['map_name'].unique()\n",
    "    mapNames = np.setdiff1d(mapNames, ['Hanamura', 'Paris', 'Horizon Lunar Colony', 'Temple of Anubis', 'Volskaya Industries'])\n",
    "    \n",
    "    # Get wins and times played\n",
    "    dfOW.rename(columns={'opponent (the big cheese)': 'opponent_name'}, inplace=True)\n",
    "    \n",
    "    stats1 = dfOW.groupby(['team_name', 'opponent_name','map_name'])['Result'].sum().reset_index().rename(columns = {'0': 'frecuencia'})\n",
    "    times1 = dfOW.groupby(['team_name', 'opponent_name', 'map_name'])['Times'].sum().reset_index().rename(columns = {'0': 'frecuencia'})\n",
    "    \n",
    "    # Get percentages\n",
    "    stats = pd.merge(stats1,times1, on = ['team_name','opponent_name', 'map_name'])\n",
    "    \n",
    "    stats['WinRate'] = stats['Result']/stats['Times']\n",
    "    \n",
    "    return stats.loc[stats['team_name'] == 'Vancouver Titans']"
   ],
   "metadata": {
    "collapsed": false,
    "ExecuteTime": {
     "end_time": "2023-09-26T01:18:45.247055100Z",
     "start_time": "2023-09-26T01:18:45.217458Z"
    }
   },
   "id": "8f662947156283a4"
  },
  {
   "cell_type": "markdown",
   "source": [
    "## Simulación de Encuentros"
   ],
   "metadata": {
    "collapsed": false
   },
   "id": "cb32934a0ff040a2"
  },
  {
   "cell_type": "code",
   "execution_count": null,
   "outputs": [],
   "source": [
    "winrate_stats = getWinrateStats()\n",
    "matches = getMatches()"
   ],
   "metadata": {
    "collapsed": false
   },
   "id": "705d250e03d46f01"
  },
  {
   "cell_type": "code",
   "execution_count": 45,
   "outputs": [
    {
     "name": "stdout",
     "output_type": "stream",
     "text": [
      "('Vancouver Titans', 'Dreamers')\n",
      "('Vancouver Titans', 'Trick Room')\n",
      "('Vancouver Titans', 'Washington Justice')\n",
      "('Vancouver Titans', 'Team Peps')\n",
      "('Vancouver Titans', 'Florida Mayhem')\n",
      "('Vancouver Titans', 'Boston Uprising')\n",
      "('Vancouver Titans', 'Dallas Fuel')\n",
      "('Vancouver Titans', 'PANTHERA')\n",
      "('Vancouver Titans', 'Hangzhou Spark')\n",
      "('Vancouver Titans', 'Vegas Eternal')\n",
      "('Vancouver Titans', 'Los Angeles Valiant')\n",
      "('Vancouver Titans', 'Seoul Infernal')\n",
      "('Vancouver Titans', 'Atlanta Reign')\n",
      "('Vancouver Titans', 'O2 Blast')\n",
      "('Vancouver Titans', 'New York Excelsior')\n",
      "('Vancouver Titans', 'Timeless')\n",
      "('Vancouver Titans', 'Rhodes')\n",
      "('Vancouver Titans', 'Poker Face')\n",
      "('Vancouver Titans', 'Seoul Dynasty')\n",
      "('Vancouver Titans', 'Houston Outlaws')\n",
      "('Vancouver Titans', 'Guangzhou Charge')\n",
      "('Vancouver Titans', 'Shanghai Dragons')\n",
      "('Vancouver Titans', 'Saints')\n",
      "('Vancouver Titans', 'WISP')\n",
      "('Vancouver Titans', 'Redbird Esports')\n",
      "('Vancouver Titans', 'San Francisco Shock')\n",
      "('Vancouver Titans', 'Toronto Defiant')\n",
      "('Vancouver Titans', 'Sin Prisa Gaming')\n",
      "('Vancouver Titans', 'Twisted Minds')\n",
      "('Vancouver Titans', 'Los Angeles Gladiators')\n",
      "('Vancouver Titans', 'London Spitfire')\n"
     ]
    },
    {
     "data": {
      "text/plain": "                Team                Opponent             Map Result\n0   Vancouver Titans                Dreamers           Nepal    Won\n0   Vancouver Titans                Dreamers  Blizzard World   Lost\n0   Vancouver Titans                Dreamers       Esperanca    Won\n0   Vancouver Titans                Dreamers  Circuit Royale    Won\n0   Vancouver Titans              Trick Room           Busan   Lost\n..               ...                     ...             ...    ...\n0   Vancouver Titans  Los Angeles Gladiators       Esperanca   Lost\n0   Vancouver Titans  Los Angeles Gladiators          Dorado   Lost\n0   Vancouver Titans         London Spitfire           Ilios    Won\n0   Vancouver Titans         London Spitfire  Blizzard World    Won\n0   Vancouver Titans         London Spitfire       Esperanca    Won\n\n[125 rows x 4 columns]",
      "text/html": "<div>\n<style scoped>\n    .dataframe tbody tr th:only-of-type {\n        vertical-align: middle;\n    }\n\n    .dataframe tbody tr th {\n        vertical-align: top;\n    }\n\n    .dataframe thead th {\n        text-align: right;\n    }\n</style>\n<table border=\"1\" class=\"dataframe\">\n  <thead>\n    <tr style=\"text-align: right;\">\n      <th></th>\n      <th>Team</th>\n      <th>Opponent</th>\n      <th>Map</th>\n      <th>Result</th>\n    </tr>\n  </thead>\n  <tbody>\n    <tr>\n      <th>0</th>\n      <td>Vancouver Titans</td>\n      <td>Dreamers</td>\n      <td>Nepal</td>\n      <td>Won</td>\n    </tr>\n    <tr>\n      <th>0</th>\n      <td>Vancouver Titans</td>\n      <td>Dreamers</td>\n      <td>Blizzard World</td>\n      <td>Lost</td>\n    </tr>\n    <tr>\n      <th>0</th>\n      <td>Vancouver Titans</td>\n      <td>Dreamers</td>\n      <td>Esperanca</td>\n      <td>Won</td>\n    </tr>\n    <tr>\n      <th>0</th>\n      <td>Vancouver Titans</td>\n      <td>Dreamers</td>\n      <td>Circuit Royale</td>\n      <td>Won</td>\n    </tr>\n    <tr>\n      <th>0</th>\n      <td>Vancouver Titans</td>\n      <td>Trick Room</td>\n      <td>Busan</td>\n      <td>Lost</td>\n    </tr>\n    <tr>\n      <th>...</th>\n      <td>...</td>\n      <td>...</td>\n      <td>...</td>\n      <td>...</td>\n    </tr>\n    <tr>\n      <th>0</th>\n      <td>Vancouver Titans</td>\n      <td>Los Angeles Gladiators</td>\n      <td>Esperanca</td>\n      <td>Lost</td>\n    </tr>\n    <tr>\n      <th>0</th>\n      <td>Vancouver Titans</td>\n      <td>Los Angeles Gladiators</td>\n      <td>Dorado</td>\n      <td>Lost</td>\n    </tr>\n    <tr>\n      <th>0</th>\n      <td>Vancouver Titans</td>\n      <td>London Spitfire</td>\n      <td>Ilios</td>\n      <td>Won</td>\n    </tr>\n    <tr>\n      <th>0</th>\n      <td>Vancouver Titans</td>\n      <td>London Spitfire</td>\n      <td>Blizzard World</td>\n      <td>Won</td>\n    </tr>\n    <tr>\n      <th>0</th>\n      <td>Vancouver Titans</td>\n      <td>London Spitfire</td>\n      <td>Esperanca</td>\n      <td>Won</td>\n    </tr>\n  </tbody>\n</table>\n<p>125 rows × 4 columns</p>\n</div>"
     },
     "execution_count": 45,
     "metadata": {},
     "output_type": "execute_result"
    }
   ],
   "source": [
    "# Resultados por mapa\n",
    "res_maps = pd.DataFrame(columns=['Team', 'Opponent', 'Map', 'Result'])\n",
    "# Resultados por match\n",
    "res_matches = pd.DataFrame(columns=['Team', 'Opponent', 'Result', 'Points'])\n",
    "\n",
    "for match in matches:\n",
    "    # Mapas que se jugarán en el match actual\n",
    "    maps = getMaps(match)\n",
    "    # Puntos por cada mapa jugado\n",
    "    maps_result = []\n",
    "    \n",
    "    for match_map in maps:\n",
    "        # Selección del winrate para un oponente y un mapa específico\n",
    "        winrate_s = winrate_stats.loc[(winrate_stats['team_name'] == 'Vancouver Titans') & (winrate_stats['opponent_name'] == match[1]) & (winrate_stats['map_name'] == match_map), 'WinRate']\n",
    "        \n",
    "        # En el caso de no haber jugado contra el equipo se asigna una probabilidad de victoria de 50%\n",
    "        if len(winrate_s) == 0:\n",
    "            winrate = 0.5\n",
    "        else:\n",
    "            winrate = winrate_s.values[0]\n",
    "        \n",
    "        # Resultados para cada match\n",
    "        results = []\n",
    "        # Número de iteraciones para simular cada juego\n",
    "        iters = 1000\n",
    "        \n",
    "        # Simulación de mapa\n",
    "        for i in range(iters):\n",
    "            random_number = random.random()\n",
    "            # Si el número aleatorio es menor al winrate el mapa se toma como ganado en la simulación (se agrega un 1 a la lista)\n",
    "            results.append(1 if random_number <= winrate else 0)\n",
    "        \n",
    "        # Si en los resultados de la simulación el mapa se ganó más de la mitad de las veces se toma como que el mapa fue ganado\n",
    "        map_result = 'Won' if sum(results) / iters > 0.5 else 'Lost'\n",
    "        temp_df = pd.DataFrame([{'Team': match[0], 'Opponent': match[1], 'Map': match_map, 'Result': map_result}])\n",
    "        res_maps = pd.concat([res_maps, temp_df])\n",
    "        \n",
    "        # Por cada mapa ganado se suma un punto y por cada mapa perdido se resta un punto\n",
    "        maps_result.append(1 if map_result == 'Won' else -1)\n",
    "        \n",
    "        # Al ganar o perder 3 mapas se detiene la simulación y pasa al siguiente match\n",
    "        if maps_result.count(1) == 3 or maps_result.count(-1) == 3:\n",
    "            break\n",
    "        \n",
    "    temp_df2 = pd.DataFrame([{'Team': match[0], 'Opponent': match[1], 'Result': 'Won' if maps_result.count(1) == 3 else 'Lost', 'Points': sum(maps_result)}])\n",
    "    res_matches = pd.concat([res_matches, temp_df2])\n",
    "        \n",
    "res_maps"
   ],
   "metadata": {
    "collapsed": false,
    "ExecuteTime": {
     "end_time": "2023-09-26T05:54:32.175087100Z",
     "start_time": "2023-09-26T05:54:31.720510500Z"
    }
   },
   "id": "1d2ab1219659b367"
  },
  {
   "cell_type": "code",
   "execution_count": 41,
   "outputs": [
    {
     "data": {
      "text/plain": "               Team                Opponent Result Points\n0  Vancouver Titans                Dreamers   Lost     -1\n0  Vancouver Titans              Trick Room    Won      2\n0  Vancouver Titans      Washington Justice   Lost     -3\n0  Vancouver Titans               Team Peps   Lost     -2\n0  Vancouver Titans          Florida Mayhem   Lost     -2\n0  Vancouver Titans         Boston Uprising    Won      1\n0  Vancouver Titans             Dallas Fuel   Lost     -2\n0  Vancouver Titans                PANTHERA   Lost     -3\n0  Vancouver Titans          Hangzhou Spark    Won      1\n0  Vancouver Titans           Vegas Eternal   Lost     -3\n0  Vancouver Titans     Los Angeles Valiant   Lost     -1\n0  Vancouver Titans          Seoul Infernal    Won      2\n0  Vancouver Titans           Atlanta Reign   Lost     -3\n0  Vancouver Titans                O2 Blast   Lost     -3\n0  Vancouver Titans      New York Excelsior   Lost     -3\n0  Vancouver Titans                Timeless   Lost     -1\n0  Vancouver Titans                  Rhodes    Won      2\n0  Vancouver Titans              Poker Face    Won      1\n0  Vancouver Titans           Seoul Dynasty    Won      3\n0  Vancouver Titans         Houston Outlaws    Won      2\n0  Vancouver Titans        Guangzhou Charge    Won      2\n0  Vancouver Titans        Shanghai Dragons    Won      1\n0  Vancouver Titans                  Saints    Won      2\n0  Vancouver Titans                    WISP    Won      1\n0  Vancouver Titans         Redbird Esports    Won      3\n0  Vancouver Titans     San Francisco Shock   Lost     -1\n0  Vancouver Titans         Toronto Defiant   Lost     -3\n0  Vancouver Titans        Sin Prisa Gaming   Lost     -2\n0  Vancouver Titans           Twisted Minds    Won      3\n0  Vancouver Titans  Los Angeles Gladiators    Won      1\n0  Vancouver Titans         London Spitfire   Lost     -2",
      "text/html": "<div>\n<style scoped>\n    .dataframe tbody tr th:only-of-type {\n        vertical-align: middle;\n    }\n\n    .dataframe tbody tr th {\n        vertical-align: top;\n    }\n\n    .dataframe thead th {\n        text-align: right;\n    }\n</style>\n<table border=\"1\" class=\"dataframe\">\n  <thead>\n    <tr style=\"text-align: right;\">\n      <th></th>\n      <th>Team</th>\n      <th>Opponent</th>\n      <th>Result</th>\n      <th>Points</th>\n    </tr>\n  </thead>\n  <tbody>\n    <tr>\n      <th>0</th>\n      <td>Vancouver Titans</td>\n      <td>Dreamers</td>\n      <td>Lost</td>\n      <td>-1</td>\n    </tr>\n    <tr>\n      <th>0</th>\n      <td>Vancouver Titans</td>\n      <td>Trick Room</td>\n      <td>Won</td>\n      <td>2</td>\n    </tr>\n    <tr>\n      <th>0</th>\n      <td>Vancouver Titans</td>\n      <td>Washington Justice</td>\n      <td>Lost</td>\n      <td>-3</td>\n    </tr>\n    <tr>\n      <th>0</th>\n      <td>Vancouver Titans</td>\n      <td>Team Peps</td>\n      <td>Lost</td>\n      <td>-2</td>\n    </tr>\n    <tr>\n      <th>0</th>\n      <td>Vancouver Titans</td>\n      <td>Florida Mayhem</td>\n      <td>Lost</td>\n      <td>-2</td>\n    </tr>\n    <tr>\n      <th>0</th>\n      <td>Vancouver Titans</td>\n      <td>Boston Uprising</td>\n      <td>Won</td>\n      <td>1</td>\n    </tr>\n    <tr>\n      <th>0</th>\n      <td>Vancouver Titans</td>\n      <td>Dallas Fuel</td>\n      <td>Lost</td>\n      <td>-2</td>\n    </tr>\n    <tr>\n      <th>0</th>\n      <td>Vancouver Titans</td>\n      <td>PANTHERA</td>\n      <td>Lost</td>\n      <td>-3</td>\n    </tr>\n    <tr>\n      <th>0</th>\n      <td>Vancouver Titans</td>\n      <td>Hangzhou Spark</td>\n      <td>Won</td>\n      <td>1</td>\n    </tr>\n    <tr>\n      <th>0</th>\n      <td>Vancouver Titans</td>\n      <td>Vegas Eternal</td>\n      <td>Lost</td>\n      <td>-3</td>\n    </tr>\n    <tr>\n      <th>0</th>\n      <td>Vancouver Titans</td>\n      <td>Los Angeles Valiant</td>\n      <td>Lost</td>\n      <td>-1</td>\n    </tr>\n    <tr>\n      <th>0</th>\n      <td>Vancouver Titans</td>\n      <td>Seoul Infernal</td>\n      <td>Won</td>\n      <td>2</td>\n    </tr>\n    <tr>\n      <th>0</th>\n      <td>Vancouver Titans</td>\n      <td>Atlanta Reign</td>\n      <td>Lost</td>\n      <td>-3</td>\n    </tr>\n    <tr>\n      <th>0</th>\n      <td>Vancouver Titans</td>\n      <td>O2 Blast</td>\n      <td>Lost</td>\n      <td>-3</td>\n    </tr>\n    <tr>\n      <th>0</th>\n      <td>Vancouver Titans</td>\n      <td>New York Excelsior</td>\n      <td>Lost</td>\n      <td>-3</td>\n    </tr>\n    <tr>\n      <th>0</th>\n      <td>Vancouver Titans</td>\n      <td>Timeless</td>\n      <td>Lost</td>\n      <td>-1</td>\n    </tr>\n    <tr>\n      <th>0</th>\n      <td>Vancouver Titans</td>\n      <td>Rhodes</td>\n      <td>Won</td>\n      <td>2</td>\n    </tr>\n    <tr>\n      <th>0</th>\n      <td>Vancouver Titans</td>\n      <td>Poker Face</td>\n      <td>Won</td>\n      <td>1</td>\n    </tr>\n    <tr>\n      <th>0</th>\n      <td>Vancouver Titans</td>\n      <td>Seoul Dynasty</td>\n      <td>Won</td>\n      <td>3</td>\n    </tr>\n    <tr>\n      <th>0</th>\n      <td>Vancouver Titans</td>\n      <td>Houston Outlaws</td>\n      <td>Won</td>\n      <td>2</td>\n    </tr>\n    <tr>\n      <th>0</th>\n      <td>Vancouver Titans</td>\n      <td>Guangzhou Charge</td>\n      <td>Won</td>\n      <td>2</td>\n    </tr>\n    <tr>\n      <th>0</th>\n      <td>Vancouver Titans</td>\n      <td>Shanghai Dragons</td>\n      <td>Won</td>\n      <td>1</td>\n    </tr>\n    <tr>\n      <th>0</th>\n      <td>Vancouver Titans</td>\n      <td>Saints</td>\n      <td>Won</td>\n      <td>2</td>\n    </tr>\n    <tr>\n      <th>0</th>\n      <td>Vancouver Titans</td>\n      <td>WISP</td>\n      <td>Won</td>\n      <td>1</td>\n    </tr>\n    <tr>\n      <th>0</th>\n      <td>Vancouver Titans</td>\n      <td>Redbird Esports</td>\n      <td>Won</td>\n      <td>3</td>\n    </tr>\n    <tr>\n      <th>0</th>\n      <td>Vancouver Titans</td>\n      <td>San Francisco Shock</td>\n      <td>Lost</td>\n      <td>-1</td>\n    </tr>\n    <tr>\n      <th>0</th>\n      <td>Vancouver Titans</td>\n      <td>Toronto Defiant</td>\n      <td>Lost</td>\n      <td>-3</td>\n    </tr>\n    <tr>\n      <th>0</th>\n      <td>Vancouver Titans</td>\n      <td>Sin Prisa Gaming</td>\n      <td>Lost</td>\n      <td>-2</td>\n    </tr>\n    <tr>\n      <th>0</th>\n      <td>Vancouver Titans</td>\n      <td>Twisted Minds</td>\n      <td>Won</td>\n      <td>3</td>\n    </tr>\n    <tr>\n      <th>0</th>\n      <td>Vancouver Titans</td>\n      <td>Los Angeles Gladiators</td>\n      <td>Won</td>\n      <td>1</td>\n    </tr>\n    <tr>\n      <th>0</th>\n      <td>Vancouver Titans</td>\n      <td>London Spitfire</td>\n      <td>Lost</td>\n      <td>-2</td>\n    </tr>\n  </tbody>\n</table>\n</div>"
     },
     "execution_count": 41,
     "metadata": {},
     "output_type": "execute_result"
    }
   ],
   "source": [
    "res_matches"
   ],
   "metadata": {
    "collapsed": false,
    "ExecuteTime": {
     "end_time": "2023-09-26T05:36:06.761374800Z",
     "start_time": "2023-09-26T05:36:06.718099800Z"
    }
   },
   "id": "46f43be0ae7d8312"
  },
  {
   "cell_type": "code",
   "execution_count": 42,
   "outputs": [
    {
     "data": {
      "text/plain": "-8"
     },
     "execution_count": 42,
     "metadata": {},
     "output_type": "execute_result"
    }
   ],
   "source": [
    "sum(res_matches['Points'])"
   ],
   "metadata": {
    "collapsed": false,
    "ExecuteTime": {
     "end_time": "2023-09-26T05:46:11.697775500Z",
     "start_time": "2023-09-26T05:46:11.689815600Z"
    }
   },
   "id": "e2c2f2ca07c30697"
  },
  {
   "cell_type": "code",
   "execution_count": 43,
   "outputs": [
    {
     "data": {
      "text/plain": "[('Vancouver Titans', 'Dreamers'),\n ('Vancouver Titans', 'Trick Room'),\n ('Vancouver Titans', 'Washington Justice'),\n ('Vancouver Titans', 'Team Peps'),\n ('Vancouver Titans', 'Florida Mayhem'),\n ('Vancouver Titans', 'Boston Uprising'),\n ('Vancouver Titans', 'Dallas Fuel'),\n ('Vancouver Titans', 'PANTHERA'),\n ('Vancouver Titans', 'Hangzhou Spark'),\n ('Vancouver Titans', 'Vegas Eternal'),\n ('Vancouver Titans', 'Los Angeles Valiant'),\n ('Vancouver Titans', 'Seoul Infernal'),\n ('Vancouver Titans', 'Atlanta Reign'),\n ('Vancouver Titans', 'O2 Blast'),\n ('Vancouver Titans', 'New York Excelsior'),\n ('Vancouver Titans', 'Timeless'),\n ('Vancouver Titans', 'Rhodes'),\n ('Vancouver Titans', 'Poker Face'),\n ('Vancouver Titans', 'Seoul Dynasty'),\n ('Vancouver Titans', 'Houston Outlaws'),\n ('Vancouver Titans', 'Guangzhou Charge'),\n ('Vancouver Titans', 'Shanghai Dragons'),\n ('Vancouver Titans', 'Saints'),\n ('Vancouver Titans', 'WISP'),\n ('Vancouver Titans', 'Redbird Esports'),\n ('Vancouver Titans', 'San Francisco Shock'),\n ('Vancouver Titans', 'Toronto Defiant'),\n ('Vancouver Titans', 'Sin Prisa Gaming'),\n ('Vancouver Titans', 'Twisted Minds'),\n ('Vancouver Titans', 'Los Angeles Gladiators'),\n ('Vancouver Titans', 'London Spitfire')]"
     },
     "execution_count": 43,
     "metadata": {},
     "output_type": "execute_result"
    }
   ],
   "source": [
    "matches"
   ],
   "metadata": {
    "collapsed": false,
    "ExecuteTime": {
     "end_time": "2023-09-26T05:53:03.079735400Z",
     "start_time": "2023-09-26T05:53:03.070898700Z"
    }
   },
   "id": "4c5e66f20555f019"
  },
  {
   "cell_type": "code",
   "execution_count": 46,
   "outputs": [
    {
     "data": {
      "text/plain": "             team_name       opponent_name          map_name  Result  Times  \\\n4275  Vancouver Titans       Atlanta Reign            Dorado    13.0    130   \n4276  Vancouver Titans       Atlanta Reign       Eichenwalde   127.0    226   \n4277  Vancouver Titans       Atlanta Reign         Hollywood    30.0     36   \n4278  Vancouver Titans       Atlanta Reign             Ilios    18.0     72   \n4279  Vancouver Titans       Atlanta Reign        King's Row     5.0     45   \n...                ...                 ...               ...     ...    ...   \n4510  Vancouver Titans  Washington Justice             Nepal     0.0     36   \n4511  Vancouver Titans  Washington Justice  New Queen Street   104.5    199   \n4512  Vancouver Titans  Washington Justice           Numbani    30.0     78   \n4513  Vancouver Titans  Washington Justice             Oasis     0.0     30   \n4514  Vancouver Titans  Washington Justice          Route 66    30.0     91   \n\n       WinRate  \n4275  0.100000  \n4276  0.561947  \n4277  0.833333  \n4278  0.250000  \n4279  0.111111  \n...        ...  \n4510  0.000000  \n4511  0.525126  \n4512  0.384615  \n4513  0.000000  \n4514  0.329670  \n\n[240 rows x 6 columns]",
      "text/html": "<div>\n<style scoped>\n    .dataframe tbody tr th:only-of-type {\n        vertical-align: middle;\n    }\n\n    .dataframe tbody tr th {\n        vertical-align: top;\n    }\n\n    .dataframe thead th {\n        text-align: right;\n    }\n</style>\n<table border=\"1\" class=\"dataframe\">\n  <thead>\n    <tr style=\"text-align: right;\">\n      <th></th>\n      <th>team_name</th>\n      <th>opponent_name</th>\n      <th>map_name</th>\n      <th>Result</th>\n      <th>Times</th>\n      <th>WinRate</th>\n    </tr>\n  </thead>\n  <tbody>\n    <tr>\n      <th>4275</th>\n      <td>Vancouver Titans</td>\n      <td>Atlanta Reign</td>\n      <td>Dorado</td>\n      <td>13.0</td>\n      <td>130</td>\n      <td>0.100000</td>\n    </tr>\n    <tr>\n      <th>4276</th>\n      <td>Vancouver Titans</td>\n      <td>Atlanta Reign</td>\n      <td>Eichenwalde</td>\n      <td>127.0</td>\n      <td>226</td>\n      <td>0.561947</td>\n    </tr>\n    <tr>\n      <th>4277</th>\n      <td>Vancouver Titans</td>\n      <td>Atlanta Reign</td>\n      <td>Hollywood</td>\n      <td>30.0</td>\n      <td>36</td>\n      <td>0.833333</td>\n    </tr>\n    <tr>\n      <th>4278</th>\n      <td>Vancouver Titans</td>\n      <td>Atlanta Reign</td>\n      <td>Ilios</td>\n      <td>18.0</td>\n      <td>72</td>\n      <td>0.250000</td>\n    </tr>\n    <tr>\n      <th>4279</th>\n      <td>Vancouver Titans</td>\n      <td>Atlanta Reign</td>\n      <td>King's Row</td>\n      <td>5.0</td>\n      <td>45</td>\n      <td>0.111111</td>\n    </tr>\n    <tr>\n      <th>...</th>\n      <td>...</td>\n      <td>...</td>\n      <td>...</td>\n      <td>...</td>\n      <td>...</td>\n      <td>...</td>\n    </tr>\n    <tr>\n      <th>4510</th>\n      <td>Vancouver Titans</td>\n      <td>Washington Justice</td>\n      <td>Nepal</td>\n      <td>0.0</td>\n      <td>36</td>\n      <td>0.000000</td>\n    </tr>\n    <tr>\n      <th>4511</th>\n      <td>Vancouver Titans</td>\n      <td>Washington Justice</td>\n      <td>New Queen Street</td>\n      <td>104.5</td>\n      <td>199</td>\n      <td>0.525126</td>\n    </tr>\n    <tr>\n      <th>4512</th>\n      <td>Vancouver Titans</td>\n      <td>Washington Justice</td>\n      <td>Numbani</td>\n      <td>30.0</td>\n      <td>78</td>\n      <td>0.384615</td>\n    </tr>\n    <tr>\n      <th>4513</th>\n      <td>Vancouver Titans</td>\n      <td>Washington Justice</td>\n      <td>Oasis</td>\n      <td>0.0</td>\n      <td>30</td>\n      <td>0.000000</td>\n    </tr>\n    <tr>\n      <th>4514</th>\n      <td>Vancouver Titans</td>\n      <td>Washington Justice</td>\n      <td>Route 66</td>\n      <td>30.0</td>\n      <td>91</td>\n      <td>0.329670</td>\n    </tr>\n  </tbody>\n</table>\n<p>240 rows × 6 columns</p>\n</div>"
     },
     "execution_count": 46,
     "metadata": {},
     "output_type": "execute_result"
    }
   ],
   "source": [
    "winrate_stats"
   ],
   "metadata": {
    "collapsed": false,
    "ExecuteTime": {
     "end_time": "2023-09-26T05:57:11.487592900Z",
     "start_time": "2023-09-26T05:57:11.461306Z"
    }
   },
   "id": "5aecf0bd30575f68"
  }
 ],
 "metadata": {
  "kernelspec": {
   "display_name": "Python 3",
   "language": "python",
   "name": "python3"
  },
  "language_info": {
   "codemirror_mode": {
    "name": "ipython",
    "version": 2
   },
   "file_extension": ".py",
   "mimetype": "text/x-python",
   "name": "python",
   "nbconvert_exporter": "python",
   "pygments_lexer": "ipython2",
   "version": "2.7.6"
  }
 },
 "nbformat": 4,
 "nbformat_minor": 5
}

{
 "cells": [
  {
   "cell_type": "markdown",
   "id": "feaab801b31768fc",
   "metadata": {
    "collapsed": false
   },
   "source": [
    "# Simulación"
   ]
  },
  {
   "cell_type": "markdown",
   "id": "9c6770c6754f0ce9",
   "metadata": {
    "collapsed": false
   },
   "source": [
    "## Método para la selección de mapas"
   ]
  },
  {
   "cell_type": "markdown",
   "id": "677c0823",
   "metadata": {},
   "source": [
    "### General"
   ]
  },
  {
   "cell_type": "code",
   "execution_count": 292,
   "id": "505e323515cd419b",
   "metadata": {
    "ExecuteTime": {
     "end_time": "2023-09-26T05:53:41.556480500Z",
     "start_time": "2023-09-26T05:53:41.522362600Z"
    },
    "collapsed": false
   },
   "outputs": [],
   "source": [
    "import numpy as np\n",
    "import random\n",
    "import pandas as pd\n",
    "from itertools import combinations\n",
    "import matplotlib.pyplot as plt\n",
    "\n",
    "\n",
    "map_types = {\n",
    "    \"control\": [\"Busan\", \"Nepal\", \"Ilios\", \"Oasis\", \"Lijian Tower\", \"Antarctic Peninsula\"],\n",
    "    \"push\": [\"Esperanca\", \"Colosseo\", \"New Queen Street\"],\n",
    "    \"escort\": [\"Circuit Royale\", \"Dorado\", \"Route 66\", \"JunkerTown\", \"Rialto\", \"Havana\", \"Watchpoint Gibraltar\", \"Shambali Monastery\"],\n",
    "    \"hybrid\": [\"Blizzard World\", \"Numbani\", \"Hollywood\", \"Eichenwalde\", \"Kings Row\", \"Midtown\", \"Paraiso\"]\n",
    "}\n",
    "\n",
    "map_order = [\"control\", \"hybrid\", \"push\", \"escort\", \"control\"]\n",
    "team_name = 'Vancouver Titans'"
   ]
  },
  {
   "cell_type": "markdown",
   "id": "1185edcd2892f514",
   "metadata": {
    "collapsed": false
   },
   "source": [
    "## Generador de Encuentros"
   ]
  },
  {
   "cell_type": "code",
   "execution_count": 293,
   "id": "b9974c1d751d39c8",
   "metadata": {
    "ExecuteTime": {
     "end_time": "2023-09-26T00:57:03.482771600Z",
     "start_time": "2023-09-26T00:57:03.456742100Z"
    },
    "collapsed": false
   },
   "outputs": [],
   "source": [
    "def getMatches():\n",
    "    df = pd.read_csv('Team Comp vs Opp Comp_the big cheese_data.csv')\n",
    "    df = df[df[\"Season\"] > 2022]\n",
    "    team_names = set(df[\"team_name\"])\n",
    "    # teams_matches = list(combinations(team_names,r=2))\n",
    "    titans_matches = [(team_name, i) for i in team_names if i != team_name]\n",
    "    \n",
    "    return titans_matches"
   ]
  },
  {
   "cell_type": "markdown",
   "id": "9f0b0d4b693eaff4",
   "metadata": {
    "collapsed": false
   },
   "source": [
    "## Generador de Probabilidades"
   ]
  },
  {
   "cell_type": "code",
   "execution_count": 294,
   "id": "8f662947156283a4",
   "metadata": {
    "ExecuteTime": {
     "end_time": "2023-09-26T01:18:45.247055100Z",
     "start_time": "2023-09-26T01:18:45.217458Z"
    },
    "collapsed": false
   },
   "outputs": [],
   "source": [
    "def getWinrateStats(team):\n",
    "    # Read data\n",
    "    dfOW = pd.read_csv('Team Comp vs Opp Comp_the big cheese_data.csv')\n",
    "    dfOW.replace('Win', 1, inplace=True)\n",
    "    dfOW.replace('Loss', 0, inplace=True)\n",
    "    dfOW.replace('Draw', 0.5, inplace=True)\n",
    "    dfOW = dfOW[~dfOW['map_name'].isin(['Hanamura', 'Paris', 'Horizon Lunar Colony', 'Temple of Anubis', 'Volskaya Industries'])]\n",
    "    dfOW['Times'] = 1\n",
    "    \n",
    "    # Make dictionary\n",
    "    teamNames = dfOW['team_name'].unique()\n",
    "    mapNames = dfOW['map_name'].unique()\n",
    "    mapNames = np.setdiff1d(mapNames, ['Hanamura', 'Paris', 'Horizon Lunar Colony', 'Temple of Anubis', 'Volskaya Industries'])\n",
    "    \n",
    "    # Get wins and times played\n",
    "    dfOW.rename(columns={'opponent (the big cheese)': 'opponent_name'}, inplace=True)\n",
    "    \n",
    "    stats1 = dfOW.groupby(['team_name', 'opponent_name','map_name'])['Result'].sum().reset_index().rename(columns = {'0': 'frecuencia'})\n",
    "    times1 = dfOW.groupby(['team_name', 'opponent_name', 'map_name'])['Times'].sum().reset_index().rename(columns = {'0': 'frecuencia'})\n",
    "    \n",
    "    # Get percentages\n",
    "    stats = pd.merge(stats1,times1, on = ['team_name','opponent_name', 'map_name'])\n",
    "    \n",
    "    stats['WinRate'] = stats['Result']/stats['Times']\n",
    "    \n",
    "    return stats.loc[stats['team_name'] == team]"
   ]
  },
  {
   "cell_type": "code",
   "execution_count": 295,
   "id": "705d250e03d46f01",
   "metadata": {
    "collapsed": false
   },
   "outputs": [],
   "source": [
    "winrate_stats = getWinrateStats(team_name)\n",
    "matches = getMatches()"
   ]
  },
  {
   "cell_type": "markdown",
   "source": [
    "### Funcion para generar las probabilidades por match basado en el winrate\n"
   ],
   "metadata": {
    "collapsed": false
   }
  },
  {
   "cell_type": "code",
   "execution_count": 296,
   "outputs": [
    {
     "name": "stdout",
     "output_type": "stream",
     "text": [
      "[0.6358468199554476, 0.05628423459205381, 0.009306815565044124, 0.09818620047331793, 0.10018796470706827, 0.10018796470706827] 0.9999999999999999\n"
     ]
    }
   ],
   "source": [
    "def getProbsByMatch(opponents, mapType):\n",
    "    # Devuelve la informacion de los oponentes segun el tipo de mapa que se solicita\n",
    "    teamName, opponentName = opponents\n",
    "    info_matches = winrate_stats.loc[\n",
    "        (winrate_stats['team_name'] == teamName) & (winrate_stats['opponent_name'] == opponentName) & (\n",
    "            winrate_stats['map_name'].isin(map_types[mapType]))].reset_index()\n",
    "\n",
    "    # Lista de todos los mapas posibles\n",
    "    all_maps = map_types[mapType]\n",
    "\n",
    "    # Crear un diccionario de winrates por mapa y actualizar el diccionario con los winrates conocidos (ACA LE COLOQUE EL PROMEDIO DE SUS WINRATES A LOS DATOS QUE NO EXISTEN, ASI QUE SI\n",
    "    # USAMOS SOLO LOS QUE SE TIENE INFO Y DESCARTAMOS A LOS OTROS PONELE 0, O SI Q UERES QUE SEA 50/50 PONELE 0.5)\n",
    "    average_winrate = info_matches['WinRate'].mean()\n",
    "    if np.isnan(average_winrate): average_winrate = 0.5\n",
    "    winrate_dict = {map_name: average_winrate for map_name in all_maps}\n",
    "\n",
    "    for m in range(len(info_matches)):\n",
    "        map_name = info_matches['map_name'][m]\n",
    "        winrate_dict[map_name] = info_matches['WinRate'][m]\n",
    "\n",
    "    # Elevar a la n los WinRates para aumentar la diferencia\n",
    "    squared_winrates = {map_name: winrate ** 4 for map_name, winrate in winrate_dict.items()}\n",
    "\n",
    "    # Normalizar los winrates al cuadrado para que sumen 1\n",
    "    total_squared_winrate = sum(squared_winrates.values())\n",
    "    normalized_squared_winrates = {map_name: squared_winrate / total_squared_winrate for map_name, squared_winrate in\n",
    "                                   squared_winrates.items()}\n",
    "\n",
    "    # Crear una lista de probabilidades basada en los winrates normalizados al cuadrado\n",
    "    probabilities = [normalized_squared_winrates[map_name] for map_name in all_maps]\n",
    "\n",
    "    return all_maps, probabilities\n",
    "\n",
    "\n",
    "#CASO EJEMPLO\n",
    "maps, res = getProbsByMatch(('Vancouver Titans', 'Florida Mayhem'), 'control')\n",
    "print(res, sum(res))\n"
   ],
   "metadata": {
    "collapsed": false
   }
  },
  {
   "cell_type": "markdown",
   "source": [
    "### Funcion para obtener mapas basado en su mejor prob con multinomial"
   ],
   "metadata": {
    "collapsed": false
   }
  },
  {
   "cell_type": "code",
   "execution_count": 297,
   "outputs": [],
   "source": [
    "\n",
    "### Funcion para obtener mapas basado en su mejor prob con multinomial\n",
    "def getMaps(match):\n",
    "    selected_maps = []\n",
    "    rep = False\n",
    "    for map_type in map_order:\n",
    "        maps_of_type = map_types[map_type]\n",
    "\n",
    "        # Filtra los mapas disponibles para este tipo\n",
    "        available_maps = [map for map in maps_of_type if map not in selected_maps]\n",
    "\n",
    "        # Asegurémonos de que queden mapas disponibles en este tipo\n",
    "        if not available_maps:\n",
    "            continue\n",
    "\n",
    "        # Calcula las probabilidades para la distribución multinomial\n",
    "        maps, probabilities = getProbsByMatch(match, map_type)\n",
    "\n",
    "        # Selecciona un mapa utilizando la distribución multinomial\n",
    "        if np.isnan(probabilities).any():\n",
    "            print(match, available_maps, maps, probabilities)\n",
    "        selected_map = np.random.choice(maps, p=probabilities)\n",
    "        while True:\n",
    "            if selected_map not in available_maps:\n",
    "                selected_map = np.random.choice(maps, p=probabilities)\n",
    "            else:\n",
    "                break\n",
    "\n",
    "        selected_maps.append(selected_map)\n",
    "\n",
    "    return selected_maps\n"
   ],
   "metadata": {
    "collapsed": false
   }
  },
  {
   "cell_type": "code",
   "execution_count": 298,
   "outputs": [],
   "source": [
    "\n",
    "# Verificar que funciona\n",
    "data = []\n",
    "for t in range(1000):\n",
    "    v = getMaps(('Vancouver Titans', 'Florida Mayhem'))\n",
    "    data.append(v)\n"
   ],
   "metadata": {
    "collapsed": false
   }
  },
  {
   "cell_type": "code",
   "execution_count": 299,
   "outputs": [
    {
     "data": {
      "text/plain": "<Figure size 432x288 with 1 Axes>",
      "image/png": "[encoded data removed]"
     },
     "metadata": {
      "needs_background": "light"
     },
     "output_type": "display_data"
    },
    {
     "name": "stdout",
     "output_type": "stream",
     "text": [
      "Solo recordando que los valores de probabilidad entre Vancouver y Florida son estos\n",
      "[Busan, Nepal, Ilios, Oasis, Lijian Tower, Antarctic Peninsula]\n",
      "[0.6358468199554476, 0.05628423459205381, 0.009306815565044124, 0.09818620047331793, 0.10018796470706827, 0.10018796470706827]\n"
     ]
    }
   ],
   "source": [
    "# Extraer los valores en la posición [0]\n",
    "values = [row[0] for row in data]\n",
    "\n",
    "# Contar la frecuencia de cada valor\n",
    "value_counts = {}\n",
    "for value in values:\n",
    "    if value in value_counts:\n",
    "        value_counts[value] += 1\n",
    "    else:\n",
    "        value_counts[value] = 1\n",
    "\n",
    "# Crear el histograma\n",
    "plt.bar(value_counts.keys(), value_counts.values())\n",
    "plt.xlabel('Valores')\n",
    "plt.ylabel('Frecuencia')\n",
    "plt.title('Histograma de Valores en Posición [0]')\n",
    "plt.xticks(rotation=45)  # Rotar las etiquetas del eje x para mayor legibilidad\n",
    "plt.show()\n",
    "print(\"Solo recordando que los valores de probabilidad entre Vancouver y Florida son estos\")\n",
    "print(\"[Busan, Nepal, Ilios, Oasis, Lijian Tower, Antarctic Peninsula]\")\n",
    "print(\n",
    "    \"[0.6358468199554476, 0.05628423459205381, 0.009306815565044124, 0.09818620047331793, 0.10018796470706827, 0.10018796470706827]\")\n",
    "## Simulación de Encuentros"
   ],
   "metadata": {
    "collapsed": false
   }
  },
  {
   "cell_type": "markdown",
   "source": [
    "## Simulación encuentros"
   ],
   "metadata": {
    "collapsed": false
   }
  },
  {
   "cell_type": "code",
   "execution_count": 300,
   "id": "1d2ab1219659b367",
   "metadata": {
    "ExecuteTime": {
     "end_time": "2023-09-26T05:54:32.175087100Z",
     "start_time": "2023-09-26T05:54:31.720510500Z"
    },
    "collapsed": false
   },
   "outputs": [
    {
     "data": {
      "text/plain": "                Team          Opponent               Map Result\n0   Vancouver Titans  Shanghai Dragons             Nepal   Lost\n0   Vancouver Titans  Shanghai Dragons           Numbani   Lost\n0   Vancouver Titans  Shanghai Dragons         Esperanca    Won\n0   Vancouver Titans  Shanghai Dragons          Route 66    Won\n0   Vancouver Titans  Shanghai Dragons             Ilios   Lost\n..               ...               ...               ...    ...\n0   Vancouver Titans       Dallas Fuel             Oasis    Won\n0   Vancouver Titans    Seoul Infernal             Busan   Lost\n0   Vancouver Titans    Seoul Infernal       Eichenwalde   Lost\n0   Vancouver Titans    Seoul Infernal  New Queen Street    Won\n0   Vancouver Titans    Seoul Infernal    Circuit Royale   Lost\n\n[128 rows x 4 columns]",
      "text/html": "<div>\n<style scoped>\n    .dataframe tbody tr th:only-of-type {\n        vertical-align: middle;\n    }\n\n    .dataframe tbody tr th {\n        vertical-align: top;\n    }\n\n    .dataframe thead th {\n        text-align: right;\n    }\n</style>\n<table border=\"1\" class=\"dataframe\">\n  <thead>\n    <tr style=\"text-align: right;\">\n      <th></th>\n      <th>Team</th>\n      <th>Opponent</th>\n      <th>Map</th>\n      <th>Result</th>\n    </tr>\n  </thead>\n  <tbody>\n    <tr>\n      <th>0</th>\n      <td>Vancouver Titans</td>\n      <td>Shanghai Dragons</td>\n      <td>Nepal</td>\n      <td>Lost</td>\n    </tr>\n    <tr>\n      <th>0</th>\n      <td>Vancouver Titans</td>\n      <td>Shanghai Dragons</td>\n      <td>Numbani</td>\n      <td>Lost</td>\n    </tr>\n    <tr>\n      <th>0</th>\n      <td>Vancouver Titans</td>\n      <td>Shanghai Dragons</td>\n      <td>Esperanca</td>\n      <td>Won</td>\n    </tr>\n    <tr>\n      <th>0</th>\n      <td>Vancouver Titans</td>\n      <td>Shanghai Dragons</td>\n      <td>Route 66</td>\n      <td>Won</td>\n    </tr>\n    <tr>\n      <th>0</th>\n      <td>Vancouver Titans</td>\n      <td>Shanghai Dragons</td>\n      <td>Ilios</td>\n      <td>Lost</td>\n    </tr>\n    <tr>\n      <th>...</th>\n      <td>...</td>\n      <td>...</td>\n      <td>...</td>\n      <td>...</td>\n    </tr>\n    <tr>\n      <th>0</th>\n      <td>Vancouver Titans</td>\n      <td>Dallas Fuel</td>\n      <td>Oasis</td>\n      <td>Won</td>\n    </tr>\n    <tr>\n      <th>0</th>\n      <td>Vancouver Titans</td>\n      <td>Seoul Infernal</td>\n      <td>Busan</td>\n      <td>Lost</td>\n    </tr>\n    <tr>\n      <th>0</th>\n      <td>Vancouver Titans</td>\n      <td>Seoul Infernal</td>\n      <td>Eichenwalde</td>\n      <td>Lost</td>\n    </tr>\n    <tr>\n      <th>0</th>\n      <td>Vancouver Titans</td>\n      <td>Seoul Infernal</td>\n      <td>New Queen Street</td>\n      <td>Won</td>\n    </tr>\n    <tr>\n      <th>0</th>\n      <td>Vancouver Titans</td>\n      <td>Seoul Infernal</td>\n      <td>Circuit Royale</td>\n      <td>Lost</td>\n    </tr>\n  </tbody>\n</table>\n<p>128 rows × 4 columns</p>\n</div>"
     },
     "execution_count": 300,
     "metadata": {},
     "output_type": "execute_result"
    }
   ],
   "source": [
    "# Resultados por mapa\n",
    "res_maps = pd.DataFrame(columns=['Team', 'Opponent', 'Map', 'Result'])\n",
    "# Resultados por match\n",
    "res_matches = pd.DataFrame(columns=['Team', 'Opponent', 'Result', 'Points'])\n",
    "\n",
    "for match in matches:\n",
    "    # Mapas que se jugarán en el match actual\n",
    "    maps = getMaps(match)\n",
    "    # Puntos por cada mapa jugado\n",
    "    maps_result = []\n",
    "    \n",
    "    for match_map in maps:\n",
    "        # Selección del winrate para un oponente y un mapa específico\n",
    "        winrate_s = winrate_stats.loc[(winrate_stats['team_name'] == team_name) & (winrate_stats['opponent_name'] == match[1]) & (winrate_stats['map_name'] == match_map), 'WinRate']\n",
    "        \n",
    "        # En el caso de no haber jugado contra el equipo se asigna una probabilidad de victoria de 50%\n",
    "        if len(winrate_s) == 0:\n",
    "            winrate = 0.5\n",
    "        else:\n",
    "            winrate = winrate_s.values[0]\n",
    "        \n",
    "        # Resultados para cada match\n",
    "        results = []\n",
    "        # Número de iteraciones para simular cada juego\n",
    "        iters = 1000\n",
    "        \n",
    "        # Simulación de mapa\n",
    "        for i in range(iters):\n",
    "            random_number = random.random()\n",
    "            # Si el número aleatorio es menor al winrate el mapa se toma como ganado en la simulación (se agrega un 1 a la lista)\n",
    "            results.append(1 if random_number <= winrate else 0)\n",
    "        \n",
    "        # Si en los resultados de la simulación el mapa se ganó más de la mitad de las veces se toma como que el mapa fue ganado\n",
    "        map_result = 'Won' if sum(results) / iters > 0.5 else 'Lost'\n",
    "        temp_df = pd.DataFrame([{'Team': match[0], 'Opponent': match[1], 'Map': match_map, 'Result': map_result}])\n",
    "        res_maps = pd.concat([res_maps, temp_df])\n",
    "        \n",
    "        # Por cada mapa ganado se suma un punto y por cada mapa perdido se resta un punto\n",
    "        maps_result.append(1 if map_result == 'Won' else -1)\n",
    "        \n",
    "        # Al ganar o perder 3 mapas se detiene la simulación y pasa al siguiente match\n",
    "        if maps_result.count(1) == 3 or maps_result.count(-1) == 3:\n",
    "            break\n",
    "        \n",
    "    temp_df2 = pd.DataFrame([{'Team': match[0], 'Opponent': match[1], 'Result': 'Won' if maps_result.count(1) == 3 else 'Lost', 'Points': sum(maps_result)}])\n",
    "    res_matches = pd.concat([res_matches, temp_df2])\n",
    "res_titans = res_matches\n",
    "res_maps"
   ]
  },
  {
   "cell_type": "code",
   "execution_count": 301,
   "id": "46f43be0ae7d8312",
   "metadata": {
    "ExecuteTime": {
     "end_time": "2023-09-26T05:36:06.761374800Z",
     "start_time": "2023-09-26T05:36:06.718099800Z"
    },
    "collapsed": false
   },
   "outputs": [
    {
     "data": {
      "text/plain": "               Team                Opponent Result Points\n0  Vancouver Titans        Shanghai Dragons   Lost     -1\n0  Vancouver Titans          Hangzhou Spark   Lost     -1\n0  Vancouver Titans                Dreamers   Lost     -2\n0  Vancouver Titans     Los Angeles Valiant    Won      2\n0  Vancouver Titans                  Saints    Won      1\n0  Vancouver Titans           Seoul Dynasty    Won      1\n0  Vancouver Titans      Washington Justice   Lost     -2\n0  Vancouver Titans              Trick Room    Won      3\n0  Vancouver Titans           Atlanta Reign    Won      2\n0  Vancouver Titans           Vegas Eternal    Won      3\n0  Vancouver Titans          Florida Mayhem    Won      3\n0  Vancouver Titans                Timeless   Lost     -2\n0  Vancouver Titans                O2 Blast    Won      1\n0  Vancouver Titans  Los Angeles Gladiators    Won      3\n0  Vancouver Titans         Boston Uprising    Won      2\n0  Vancouver Titans                    WISP   Lost     -3\n0  Vancouver Titans         Houston Outlaws   Lost     -2\n0  Vancouver Titans     San Francisco Shock   Lost     -1\n0  Vancouver Titans         London Spitfire    Won      1\n0  Vancouver Titans           Twisted Minds    Won      2\n0  Vancouver Titans        Sin Prisa Gaming    Won      2\n0  Vancouver Titans        Guangzhou Charge   Lost     -1\n0  Vancouver Titans         Redbird Esports    Won      1\n0  Vancouver Titans                PANTHERA   Lost     -2\n0  Vancouver Titans               Team Peps    Won      3\n0  Vancouver Titans              Poker Face   Lost     -2\n0  Vancouver Titans      New York Excelsior    Won      3\n0  Vancouver Titans         Toronto Defiant   Lost     -1\n0  Vancouver Titans                  Rhodes    Won      2\n0  Vancouver Titans             Dallas Fuel    Won      1\n0  Vancouver Titans          Seoul Infernal   Lost     -2",
      "text/html": "<div>\n<style scoped>\n    .dataframe tbody tr th:only-of-type {\n        vertical-align: middle;\n    }\n\n    .dataframe tbody tr th {\n        vertical-align: top;\n    }\n\n    .dataframe thead th {\n        text-align: right;\n    }\n</style>\n<table border=\"1\" class=\"dataframe\">\n  <thead>\n    <tr style=\"text-align: right;\">\n      <th></th>\n      <th>Team</th>\n      <th>Opponent</th>\n      <th>Result</th>\n      <th>Points</th>\n    </tr>\n  </thead>\n  <tbody>\n    <tr>\n      <th>0</th>\n      <td>Vancouver Titans</td>\n      <td>Shanghai Dragons</td>\n      <td>Lost</td>\n      <td>-1</td>\n    </tr>\n    <tr>\n      <th>0</th>\n      <td>Vancouver Titans</td>\n      <td>Hangzhou Spark</td>\n      <td>Lost</td>\n      <td>-1</td>\n    </tr>\n    <tr>\n      <th>0</th>\n      <td>Vancouver Titans</td>\n      <td>Dreamers</td>\n      <td>Lost</td>\n      <td>-2</td>\n    </tr>\n    <tr>\n      <th>0</th>\n      <td>Vancouver Titans</td>\n      <td>Los Angeles Valiant</td>\n      <td>Won</td>\n      <td>2</td>\n    </tr>\n    <tr>\n      <th>0</th>\n      <td>Vancouver Titans</td>\n      <td>Saints</td>\n      <td>Won</td>\n      <td>1</td>\n    </tr>\n    <tr>\n      <th>0</th>\n      <td>Vancouver Titans</td>\n      <td>Seoul Dynasty</td>\n      <td>Won</td>\n      <td>1</td>\n    </tr>\n    <tr>\n      <th>0</th>\n      <td>Vancouver Titans</td>\n      <td>Washington Justice</td>\n      <td>Lost</td>\n      <td>-2</td>\n    </tr>\n    <tr>\n      <th>0</th>\n      <td>Vancouver Titans</td>\n      <td>Trick Room</td>\n      <td>Won</td>\n      <td>3</td>\n    </tr>\n    <tr>\n      <th>0</th>\n      <td>Vancouver Titans</td>\n      <td>Atlanta Reign</td>\n      <td>Won</td>\n      <td>2</td>\n    </tr>\n    <tr>\n      <th>0</th>\n      <td>Vancouver Titans</td>\n      <td>Vegas Eternal</td>\n      <td>Won</td>\n      <td>3</td>\n    </tr>\n    <tr>\n      <th>0</th>\n      <td>Vancouver Titans</td>\n      <td>Florida Mayhem</td>\n      <td>Won</td>\n      <td>3</td>\n    </tr>\n    <tr>\n      <th>0</th>\n      <td>Vancouver Titans</td>\n      <td>Timeless</td>\n      <td>Lost</td>\n      <td>-2</td>\n    </tr>\n    <tr>\n      <th>0</th>\n      <td>Vancouver Titans</td>\n      <td>O2 Blast</td>\n      <td>Won</td>\n      <td>1</td>\n    </tr>\n    <tr>\n      <th>0</th>\n      <td>Vancouver Titans</td>\n      <td>Los Angeles Gladiators</td>\n      <td>Won</td>\n      <td>3</td>\n    </tr>\n    <tr>\n      <th>0</th>\n      <td>Vancouver Titans</td>\n      <td>Boston Uprising</td>\n      <td>Won</td>\n      <td>2</td>\n    </tr>\n    <tr>\n      <th>0</th>\n      <td>Vancouver Titans</td>\n      <td>WISP</td>\n      <td>Lost</td>\n      <td>-3</td>\n    </tr>\n    <tr>\n      <th>0</th>\n      <td>Vancouver Titans</td>\n      <td>Houston Outlaws</td>\n      <td>Lost</td>\n      <td>-2</td>\n    </tr>\n    <tr>\n      <th>0</th>\n      <td>Vancouver Titans</td>\n      <td>San Francisco Shock</td>\n      <td>Lost</td>\n      <td>-1</td>\n    </tr>\n    <tr>\n      <th>0</th>\n      <td>Vancouver Titans</td>\n      <td>London Spitfire</td>\n      <td>Won</td>\n      <td>1</td>\n    </tr>\n    <tr>\n      <th>0</th>\n      <td>Vancouver Titans</td>\n      <td>Twisted Minds</td>\n      <td>Won</td>\n      <td>2</td>\n    </tr>\n    <tr>\n      <th>0</th>\n      <td>Vancouver Titans</td>\n      <td>Sin Prisa Gaming</td>\n      <td>Won</td>\n      <td>2</td>\n    </tr>\n    <tr>\n      <th>0</th>\n      <td>Vancouver Titans</td>\n      <td>Guangzhou Charge</td>\n      <td>Lost</td>\n      <td>-1</td>\n    </tr>\n    <tr>\n      <th>0</th>\n      <td>Vancouver Titans</td>\n      <td>Redbird Esports</td>\n      <td>Won</td>\n      <td>1</td>\n    </tr>\n    <tr>\n      <th>0</th>\n      <td>Vancouver Titans</td>\n      <td>PANTHERA</td>\n      <td>Lost</td>\n      <td>-2</td>\n    </tr>\n    <tr>\n      <th>0</th>\n      <td>Vancouver Titans</td>\n      <td>Team Peps</td>\n      <td>Won</td>\n      <td>3</td>\n    </tr>\n    <tr>\n      <th>0</th>\n      <td>Vancouver Titans</td>\n      <td>Poker Face</td>\n      <td>Lost</td>\n      <td>-2</td>\n    </tr>\n    <tr>\n      <th>0</th>\n      <td>Vancouver Titans</td>\n      <td>New York Excelsior</td>\n      <td>Won</td>\n      <td>3</td>\n    </tr>\n    <tr>\n      <th>0</th>\n      <td>Vancouver Titans</td>\n      <td>Toronto Defiant</td>\n      <td>Lost</td>\n      <td>-1</td>\n    </tr>\n    <tr>\n      <th>0</th>\n      <td>Vancouver Titans</td>\n      <td>Rhodes</td>\n      <td>Won</td>\n      <td>2</td>\n    </tr>\n    <tr>\n      <th>0</th>\n      <td>Vancouver Titans</td>\n      <td>Dallas Fuel</td>\n      <td>Won</td>\n      <td>1</td>\n    </tr>\n    <tr>\n      <th>0</th>\n      <td>Vancouver Titans</td>\n      <td>Seoul Infernal</td>\n      <td>Lost</td>\n      <td>-2</td>\n    </tr>\n  </tbody>\n</table>\n</div>"
     },
     "execution_count": 301,
     "metadata": {},
     "output_type": "execute_result"
    }
   ],
   "source": [
    "\n",
    "res_maps.to_csv('mapsTitans.csv', mode='a', index=False, header=True)\n",
    "res_titans.to_csv('resTitans.csv', mode='a', index=False, header=True)\n",
    "res_matches"
   ]
  },
  {
   "cell_type": "code",
   "execution_count": 302,
   "id": "e2c2f2ca07c30697",
   "metadata": {
    "ExecuteTime": {
     "end_time": "2023-09-26T05:46:11.697775500Z",
     "start_time": "2023-09-26T05:46:11.689815600Z"
    },
    "collapsed": false
   },
   "outputs": [
    {
     "data": {
      "text/plain": "14"
     },
     "execution_count": 302,
     "metadata": {},
     "output_type": "execute_result"
    }
   ],
   "source": [
    "sum(res_matches['Points'])"
   ]
  },
  {
   "cell_type": "markdown",
   "source": [
    "### Simulación del resto de partidos\n",
    "#### Selección de mapas aleatorias para el resto de partidos"
   ],
   "metadata": {
    "collapsed": false
   }
  },
  {
   "cell_type": "code",
   "execution_count": 303,
   "outputs": [],
   "source": [
    "def getRandomMaps():\n",
    "    map_types = {\n",
    "        \"control\": [\"Busan\", \"Nepal\", \"Ilios\", \"Oasis\", \"Lijian Tower\", \"Antartic Peninsula\"],\n",
    "        \"push\": [\"Esperanca\", \"Colosseo\", \"New Queen Street\"],\n",
    "        \"escort\": [\"Circuit Royale\", \"Dorado\", \"Route 66\", \"JunkerTown\", \"Rialto\", \"Havana\", \"Watchpoint Gibraltar\", \"Shambali Monastery\"],\n",
    "        \"hybrid\": [\"Blizzard World\", \"Numbani\", \"Hollywood\", \"Eichenwalde\", \"Kings Row\", \"Midtown\", \"Paraiso\"]\n",
    "    }\n",
    "\n",
    "    map_order = [\"control\", \"hybrid\", \"push\", \"escort\", \"control\"]\n",
    "    selected_maps = []\n",
    "\n",
    "    # Elegir el primer mapa aleatoriamente\n",
    "    first_map_type = \"control\"\n",
    "    selected_maps.append(random.choice(map_types[first_map_type]))\n",
    "\n",
    "    # Eliminar el mapa seleccionado del tipo para el último mapa\n",
    "    map_types[first_map_type].remove(selected_maps[0])\n",
    "    map_order.remove(map_order[0])\n",
    "\n",
    "    # Calcular las probabilidades para la distribución multinomial\n",
    "    probabilities = [len(map_types[map_type]) for map_type in map_order]\n",
    "\n",
    "    # Generar una selección de mapas utilizando la distribución multinomial\n",
    "    selected_indices = np.random.multinomial(1, probabilities / np.sum(probabilities), size=1)[0]\n",
    "\n",
    "    # Seleccionar un mapa aleatorio del tipo seleccionado para cada índice\n",
    "    for selected_index, map_type in zip(selected_indices, map_order):\n",
    "        selected_map = map_types[map_type][selected_index]\n",
    "        selected_maps.append(selected_map)\n",
    "\n",
    "    return selected_maps\n"
   ],
   "metadata": {
    "collapsed": false
   }
  },
  {
   "cell_type": "code",
   "execution_count": 304,
   "outputs": [],
   "source": [
    "def getAllMatches():\n",
    "    df = pd.read_csv('Team Comp vs Opp Comp_the big cheese_data.csv')\n",
    "    df = df[df[\"Season\"] > 2022]\n",
    "    df = df[~df['team_name'].isin(['Vancouver Titans'])]\n",
    "    team_names = set(df[\"team_name\"])\n",
    "    teams_matches = list(combinations(team_names,r=2))\n",
    "    # titans_matches = [(team_name, i) for i in team_names if i != team_name]\n",
    "\n",
    "    return teams_matches\n"
   ],
   "metadata": {
    "collapsed": false
   }
  },
  {
   "cell_type": "code",
   "execution_count": 305,
   "id": "6853f109",
   "metadata": {},
   "outputs": [
    {
     "data": {
      "text/plain": "                Team        Opponent             Map Result\n0   Shanghai Dragons  Hangzhou Spark           Oasis    Won\n0   Shanghai Dragons  Hangzhou Spark  Blizzard World   Lost\n0   Shanghai Dragons  Hangzhou Spark       Esperanca    Won\n0   Shanghai Dragons  Hangzhou Spark  Circuit Royale   Lost\n0   Shanghai Dragons  Hangzhou Spark           Nepal    Won\n..               ...             ...             ...    ...\n0        Dallas Fuel  Seoul Infernal           Ilios   Lost\n0        Dallas Fuel  Seoul Infernal         Numbani    Won\n0        Dallas Fuel  Seoul Infernal       Esperanca   Lost\n0        Dallas Fuel  Seoul Infernal  Circuit Royale    Won\n0        Dallas Fuel  Seoul Infernal           Busan    Won\n\n[1902 rows x 4 columns]",
      "text/html": "<div>\n<style scoped>\n    .dataframe tbody tr th:only-of-type {\n        vertical-align: middle;\n    }\n\n    .dataframe tbody tr th {\n        vertical-align: top;\n    }\n\n    .dataframe thead th {\n        text-align: right;\n    }\n</style>\n<table border=\"1\" class=\"dataframe\">\n  <thead>\n    <tr style=\"text-align: right;\">\n      <th></th>\n      <th>Team</th>\n      <th>Opponent</th>\n      <th>Map</th>\n      <th>Result</th>\n    </tr>\n  </thead>\n  <tbody>\n    <tr>\n      <th>0</th>\n      <td>Shanghai Dragons</td>\n      <td>Hangzhou Spark</td>\n      <td>Oasis</td>\n      <td>Won</td>\n    </tr>\n    <tr>\n      <th>0</th>\n      <td>Shanghai Dragons</td>\n      <td>Hangzhou Spark</td>\n      <td>Blizzard World</td>\n      <td>Lost</td>\n    </tr>\n    <tr>\n      <th>0</th>\n      <td>Shanghai Dragons</td>\n      <td>Hangzhou Spark</td>\n      <td>Esperanca</td>\n      <td>Won</td>\n    </tr>\n    <tr>\n      <th>0</th>\n      <td>Shanghai Dragons</td>\n      <td>Hangzhou Spark</td>\n      <td>Circuit Royale</td>\n      <td>Lost</td>\n    </tr>\n    <tr>\n      <th>0</th>\n      <td>Shanghai Dragons</td>\n      <td>Hangzhou Spark</td>\n      <td>Nepal</td>\n      <td>Won</td>\n    </tr>\n    <tr>\n      <th>...</th>\n      <td>...</td>\n      <td>...</td>\n      <td>...</td>\n      <td>...</td>\n    </tr>\n    <tr>\n      <th>0</th>\n      <td>Dallas Fuel</td>\n      <td>Seoul Infernal</td>\n      <td>Ilios</td>\n      <td>Lost</td>\n    </tr>\n    <tr>\n      <th>0</th>\n      <td>Dallas Fuel</td>\n      <td>Seoul Infernal</td>\n      <td>Numbani</td>\n      <td>Won</td>\n    </tr>\n    <tr>\n      <th>0</th>\n      <td>Dallas Fuel</td>\n      <td>Seoul Infernal</td>\n      <td>Esperanca</td>\n      <td>Lost</td>\n    </tr>\n    <tr>\n      <th>0</th>\n      <td>Dallas Fuel</td>\n      <td>Seoul Infernal</td>\n      <td>Circuit Royale</td>\n      <td>Won</td>\n    </tr>\n    <tr>\n      <th>0</th>\n      <td>Dallas Fuel</td>\n      <td>Seoul Infernal</td>\n      <td>Busan</td>\n      <td>Won</td>\n    </tr>\n  </tbody>\n</table>\n<p>1902 rows × 4 columns</p>\n</div>"
     },
     "execution_count": 305,
     "metadata": {},
     "output_type": "execute_result"
    }
   ],
   "source": [
    "\n",
    "matches = getAllMatches()\n",
    "# Resultados por mapa\n",
    "res_maps = pd.DataFrame(columns=['Team', 'Opponent', 'Map', 'Result'])\n",
    "# Resultados por match\n",
    "res_matches = res_titans\n",
    "\n",
    "for match in matches:\n",
    "    team_name = match[0]\n",
    "    winrate_stats = getWinrateStats(team_name)\n",
    "\n",
    "    # Mapas que se jugarán en el match actual\n",
    "    maps = getRandomMaps()\n",
    "    # Puntos por cada mapa jugado\n",
    "    maps_result = []\n",
    "\n",
    "    for match_map in maps:\n",
    "        # Selección del winrate para un oponente y un mapa específico\n",
    "        winrate_s = winrate_stats.loc[(winrate_stats['team_name'] == team_name) & (winrate_stats['opponent_name'] == match[1]) & (winrate_stats['map_name'] == match_map), 'WinRate']\n",
    "\n",
    "        # En el caso de no haber jugado contra el equipo se asigna una probabilidad de victoria de 50%\n",
    "        if len(winrate_s) == 0:\n",
    "            winrate = 0.5\n",
    "        else:\n",
    "            winrate = winrate_s.values[0]\n",
    "\n",
    "        # Resultados para cada match\n",
    "        results = []\n",
    "        # Número de iteraciones para simular cada juego\n",
    "        iters = 1000\n",
    "\n",
    "        # Simulación de mapa\n",
    "        for i in range(iters):\n",
    "            random_number = random.random()\n",
    "            # Si el número aleatorio es menor al winrate el mapa se toma como ganado en la simulación (se agrega un 1 a la lista)\n",
    "            results.append(1 if random_number <= winrate else 0)\n",
    "\n",
    "        # Si en los resultados de la simulación el mapa se ganó más de la mitad de las veces se toma como que el mapa fue ganado\n",
    "        map_result = 'Won' if sum(results) / iters > 0.5 else 'Lost'\n",
    "        temp_df = pd.DataFrame([{'Team': match[0], 'Opponent': match[1], 'Map': match_map, 'Result': map_result}])\n",
    "        res_maps = pd.concat([res_maps, temp_df])\n",
    "\n",
    "        # Por cada mapa ganado se suma un punto y por cada mapa perdido se resta un punto\n",
    "        maps_result.append(1 if map_result == 'Won' else -1)\n",
    "\n",
    "        # Al ganar o perder 3 mapas se detiene la simulación y pasa al siguiente match\n",
    "        if maps_result.count(1) == 3 or maps_result.count(-1) == 3:\n",
    "            break\n",
    "\n",
    "    temp_df2 = pd.DataFrame([{'Team': match[0], 'Opponent': match[1], 'Result': 'Won' if maps_result.count(1) == 3 else 'Lost', 'Points': sum(maps_result)}])\n",
    "    res_matches = pd.concat([res_matches, temp_df2])\n",
    "\n",
    "res_maps\n"
   ]
  },
  {
   "cell_type": "code",
   "execution_count": 306,
   "outputs": [
    {
     "data": {
      "text/plain": "                      Team  Points\n0            Atlanta Reign     -10\n1          Boston Uprising     -11\n2              Dallas Fuel       1\n3                 Dreamers     -15\n4           Florida Mayhem      17\n5         Guangzhou Charge       4\n6           Hangzhou Spark      15\n7          Houston Outlaws     -14\n8          London Spitfire      -1\n9   Los Angeles Gladiators       0\n10     Los Angeles Valiant      16\n11      New York Excelsior       4\n12                O2 Blast      -7\n13                PANTHERA      -5\n14              Poker Face     -10\n15         Redbird Esports       0\n16                  Rhodes       1\n17                  Saints       8\n18     San Francisco Shock      -1\n19           Seoul Dynasty      -3\n20        Shanghai Dragons       6\n21        Sin Prisa Gaming       3\n22               Team Peps      -7\n23                Timeless       0\n24         Toronto Defiant      -1\n25              Trick Room       1\n26           Twisted Minds     -10\n27        Vancouver Titans      14\n28           Vegas Eternal     -33\n29                    WISP       5\n30      Washington Justice     -25",
      "text/html": "<div>\n<style scoped>\n    .dataframe tbody tr th:only-of-type {\n        vertical-align: middle;\n    }\n\n    .dataframe tbody tr th {\n        vertical-align: top;\n    }\n\n    .dataframe thead th {\n        text-align: right;\n    }\n</style>\n<table border=\"1\" class=\"dataframe\">\n  <thead>\n    <tr style=\"text-align: right;\">\n      <th></th>\n      <th>Team</th>\n      <th>Points</th>\n    </tr>\n  </thead>\n  <tbody>\n    <tr>\n      <th>0</th>\n      <td>Atlanta Reign</td>\n      <td>-10</td>\n    </tr>\n    <tr>\n      <th>1</th>\n      <td>Boston Uprising</td>\n      <td>-11</td>\n    </tr>\n    <tr>\n      <th>2</th>\n      <td>Dallas Fuel</td>\n      <td>1</td>\n    </tr>\n    <tr>\n      <th>3</th>\n      <td>Dreamers</td>\n      <td>-15</td>\n    </tr>\n    <tr>\n      <th>4</th>\n      <td>Florida Mayhem</td>\n      <td>17</td>\n    </tr>\n    <tr>\n      <th>5</th>\n      <td>Guangzhou Charge</td>\n      <td>4</td>\n    </tr>\n    <tr>\n      <th>6</th>\n      <td>Hangzhou Spark</td>\n      <td>15</td>\n    </tr>\n    <tr>\n      <th>7</th>\n      <td>Houston Outlaws</td>\n      <td>-14</td>\n    </tr>\n    <tr>\n      <th>8</th>\n      <td>London Spitfire</td>\n      <td>-1</td>\n    </tr>\n    <tr>\n      <th>9</th>\n      <td>Los Angeles Gladiators</td>\n      <td>0</td>\n    </tr>\n    <tr>\n      <th>10</th>\n      <td>Los Angeles Valiant</td>\n      <td>16</td>\n    </tr>\n    <tr>\n      <th>11</th>\n      <td>New York Excelsior</td>\n      <td>4</td>\n    </tr>\n    <tr>\n      <th>12</th>\n      <td>O2 Blast</td>\n      <td>-7</td>\n    </tr>\n    <tr>\n      <th>13</th>\n      <td>PANTHERA</td>\n      <td>-5</td>\n    </tr>\n    <tr>\n      <th>14</th>\n      <td>Poker Face</td>\n      <td>-10</td>\n    </tr>\n    <tr>\n      <th>15</th>\n      <td>Redbird Esports</td>\n      <td>0</td>\n    </tr>\n    <tr>\n      <th>16</th>\n      <td>Rhodes</td>\n      <td>1</td>\n    </tr>\n    <tr>\n      <th>17</th>\n      <td>Saints</td>\n      <td>8</td>\n    </tr>\n    <tr>\n      <th>18</th>\n      <td>San Francisco Shock</td>\n      <td>-1</td>\n    </tr>\n    <tr>\n      <th>19</th>\n      <td>Seoul Dynasty</td>\n      <td>-3</td>\n    </tr>\n    <tr>\n      <th>20</th>\n      <td>Shanghai Dragons</td>\n      <td>6</td>\n    </tr>\n    <tr>\n      <th>21</th>\n      <td>Sin Prisa Gaming</td>\n      <td>3</td>\n    </tr>\n    <tr>\n      <th>22</th>\n      <td>Team Peps</td>\n      <td>-7</td>\n    </tr>\n    <tr>\n      <th>23</th>\n      <td>Timeless</td>\n      <td>0</td>\n    </tr>\n    <tr>\n      <th>24</th>\n      <td>Toronto Defiant</td>\n      <td>-1</td>\n    </tr>\n    <tr>\n      <th>25</th>\n      <td>Trick Room</td>\n      <td>1</td>\n    </tr>\n    <tr>\n      <th>26</th>\n      <td>Twisted Minds</td>\n      <td>-10</td>\n    </tr>\n    <tr>\n      <th>27</th>\n      <td>Vancouver Titans</td>\n      <td>14</td>\n    </tr>\n    <tr>\n      <th>28</th>\n      <td>Vegas Eternal</td>\n      <td>-33</td>\n    </tr>\n    <tr>\n      <th>29</th>\n      <td>WISP</td>\n      <td>5</td>\n    </tr>\n    <tr>\n      <th>30</th>\n      <td>Washington Justice</td>\n      <td>-25</td>\n    </tr>\n  </tbody>\n</table>\n</div>"
     },
     "execution_count": 306,
     "metadata": {},
     "output_type": "execute_result"
    }
   ],
   "source": [
    "\n",
    "results_all = res_matches.groupby(['Team'])['Points'].sum().reset_index().rename(columns = {'0': 'frecuencia'})\n",
    "results_all"
   ],
   "metadata": {
    "collapsed": false
   }
  },
  {
   "cell_type": "code",
   "execution_count": 307,
   "outputs": [],
   "source": [
    "results_all.to_csv('results.csv', mode='a', index=False, header=True)"
   ],
   "metadata": {
    "collapsed": false
   }
  }
 ],
 "metadata": {
  "kernelspec": {
   "display_name": "Python 3",
   "language": "python",
   "name": "python3"
  },
  "language_info": {
   "codemirror_mode": {
    "name": "ipython",
    "version": 3
   },
   "file_extension": ".py",
   "mimetype": "text/x-python",
   "name": "python",
   "nbconvert_exporter": "python",
   "pygments_lexer": "ipython3",
   "version": "3.11.4"
  }
 },
 "nbformat": 4,
 "nbformat_minor": 5
}
